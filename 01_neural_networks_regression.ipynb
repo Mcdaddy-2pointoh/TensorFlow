{
  "nbformat": 4,
  "nbformat_minor": 0,
  "metadata": {
    "colab": {
      "name": "01_neural_networks_regression.ipynb",
      "provenance": [],
      "collapsed_sections": []
    },
    "kernelspec": {
      "name": "python3",
      "display_name": "Python 3"
    },
    "language_info": {
      "name": "python"
    }
  },
  "cells": [
    {
      "cell_type": "markdown",
      "metadata": {
        "id": "UeOrkqO-FDuV"
      },
      "source": [
        "#✅✅✅✅ START OF REGRESSION ON NEURAL NETWORKS BASICS ✅✅✅✅\n",
        "\n",
        "Regression: Predicting numerical variable based on other related properties / numerical values\n",
        "\n",
        "\n",
        "\n",
        "\n"
      ]
    },
    {
      "cell_type": "code",
      "metadata": {
        "id": "WGjSH5KDFiJA",
        "colab": {
          "base_uri": "https://localhost:8080/"
        },
        "outputId": "74087f07-a56f-4461-b772-699d37306f6f"
      },
      "source": [
        "import tensorflow as tf\n",
        "print(tf.__version__)\n"
      ],
      "execution_count": null,
      "outputs": [
        {
          "output_type": "stream",
          "name": "stdout",
          "text": [
            "2.7.0\n"
          ]
        }
      ]
    },
    {
      "cell_type": "code",
      "metadata": {
        "colab": {
          "base_uri": "https://localhost:8080/",
          "height": 286
        },
        "id": "pkWDKrzT4tr9",
        "outputId": "02604402-0eb6-476d-d3da-1f5e9bec0308"
      },
      "source": [
        "# Create Data to view and fit\n",
        "import numpy as np\n",
        "import matplotlib.pyplot as plt\n",
        "\n",
        "# Create features also represented on the X axis\n",
        "x = np.array([-5,-3,-1, 1, 3,5,7,9])\n",
        "\n",
        "# Create labels \n",
        "y = np.array([3,6,9,12,15,18,21,24])\n",
        "\n",
        "# Data Visualization\n",
        "plt.scatter(x,y)\n",
        "\n"
      ],
      "execution_count": null,
      "outputs": [
        {
          "output_type": "execute_result",
          "data": {
            "text/plain": [
              "<matplotlib.collections.PathCollection at 0x7f3ac1419790>"
            ]
          },
          "metadata": {},
          "execution_count": 37
        },
        {
          "output_type": "display_data",
          "data": {
            "image/png": "[encoded data removed]",
            "text/plain": [
              "<Figure size 432x288 with 1 Axes>"
            ]
          },
          "metadata": {
            "needs_background": "light"
          }
        }
      ]
    },
    {
      "cell_type": "code",
      "metadata": {
        "colab": {
          "base_uri": "https://localhost:8080/"
        },
        "id": "9by7GmBS5vUW",
        "outputId": "10efb949-3703-4f95-bc7d-1ba1fb286724"
      },
      "source": [
        "2*(y) == 3*(x)+21 # Line equation"
      ],
      "execution_count": null,
      "outputs": [
        {
          "output_type": "execute_result",
          "data": {
            "text/plain": [
              "array([ True,  True,  True,  True,  True,  True,  True,  True])"
            ]
          },
          "metadata": {},
          "execution_count": 38
        }
      ]
    },
    {
      "cell_type": "markdown",
      "metadata": {
        "id": "CpHQQRkC7tyU"
      },
      "source": [
        "### ⚫ Input and Output shapes\n"
      ]
    },
    {
      "cell_type": "code",
      "metadata": {
        "colab": {
          "base_uri": "https://localhost:8080/"
        },
        "id": "AYGE9_T074Tz",
        "outputId": "5045e2dc-731b-462c-8fae-eeeda6d13ef7"
      },
      "source": [
        "x = tf.constant(x)\n",
        "y = tf.constant(y)\n",
        "x , y # Should be an empty list as Scalar predicts a Scalar hence and scalars are dimensionless "
      ],
      "execution_count": null,
      "outputs": [
        {
          "output_type": "execute_result",
          "data": {
            "text/plain": [
              "(<tf.Tensor: shape=(8,), dtype=int64, numpy=array([-5, -3, -1,  1,  3,  5,  7,  9])>,\n",
              " <tf.Tensor: shape=(8,), dtype=int64, numpy=array([ 3,  6,  9, 12, 15, 18, 21, 24])>)"
            ]
          },
          "metadata": {},
          "execution_count": 39
        }
      ]
    },
    {
      "cell_type": "markdown",
      "metadata": {
        "id": "I5vJEbbx9gxf"
      },
      "source": [
        "### 🔴 Steps in Modelling with tensorFlow\n",
        "\n",
        "**1. Model Creation:**\n",
        "\n",
        "      a. Define Input layers\n",
        "\n",
        "      b. Define Output layers\n",
        "\n",
        "      c. Define Hidden layers of DL model\n",
        "\n",
        "**2. Compiling a model:**\n",
        "\n",
        "      a. Define Loss function (A function which tels the model how wrong it was)\n",
        "\n",
        "      b. Optimizer (Tells our model how to improve its learning patters)\n",
        "\n",
        "      c. Evaluation Metrics (what can we use to interpret the performance of our model). \n",
        "\n",
        "**3. Fitting a model:**\n",
        "\n",
        "      a. Letting the model try to find patterns between X & Y (features and labels)."
      ]
    },
    {
      "cell_type": "code",
      "metadata": {
        "colab": {
          "base_uri": "https://localhost:8080/"
        },
        "id": "RmwqYLTE9p7y",
        "outputId": "47a7f7e8-5b71-4c97-f740-a1484cfbcc4a"
      },
      "source": [
        "# Set random seed\n",
        "tf.random.set_seed(42)\n",
        "\n",
        "A = x[..., tf.newaxis]\n",
        "B = y[..., tf.newaxis]\n",
        "# Creating a model \n",
        "  # Sequential needs input of dimension >= 2 i.e. x.ndim >= 2\n",
        "\n",
        "model = tf.keras.Sequential()\n",
        "model.add(tf.keras.layers.Dense(1))\n",
        "\n",
        "#Alternatively\n",
        "\n",
        "'''\n",
        "model = tf.keras.Sequential([\n",
        "  tf.keras.layers.Dense(1)\n",
        "])\n",
        "'''\n",
        "\n",
        "# Compile model\n",
        "model.compile(loss=tf.keras.losses.mae, optimizer=tf.keras.optimizers.SGD(), metrics=['mae']) \n",
        "  # MAE => Mean Absolute Error\n",
        "  # SGD => Stochastic Gradient Descent\n",
        "\n",
        "# Fitting the model\n",
        "model.fit(A,B, epochs=5)\n",
        "\n"
      ],
      "execution_count": null,
      "outputs": [
        {
          "output_type": "stream",
          "name": "stdout",
          "text": [
            "Epoch 1/5\n",
            "1/1 [==============================] - 0s 283ms/step - loss: 12.3599 - mae: 12.3599\n",
            "Epoch 2/5\n",
            "1/1 [==============================] - 0s 7ms/step - loss: 12.3099 - mae: 12.3099\n",
            "Epoch 3/5\n",
            "1/1 [==============================] - 0s 4ms/step - loss: 12.2599 - mae: 12.2599\n",
            "Epoch 4/5\n",
            "1/1 [==============================] - 0s 4ms/step - loss: 12.2099 - mae: 12.2099\n",
            "Epoch 5/5\n",
            "1/1 [==============================] - 0s 5ms/step - loss: 12.1599 - mae: 12.1599\n"
          ]
        },
        {
          "output_type": "execute_result",
          "data": {
            "text/plain": [
              "<keras.callbacks.History at 0x7f3abc1d0550>"
            ]
          },
          "metadata": {},
          "execution_count": 40
        }
      ]
    },
    {
      "cell_type": "code",
      "metadata": {
        "colab": {
          "base_uri": "https://localhost:8080/"
        },
        "id": "bweS6WEENK5n",
        "outputId": "e724afb4-759e-4729-9e9b-9966e3540775"
      },
      "source": [
        "# Try prdicting\n",
        "y_pred = model.predict([[17]])\n",
        "y_pred"
      ],
      "execution_count": null,
      "outputs": [
        {
          "output_type": "execute_result",
          "data": {
            "text/plain": [
              "array([[11.441017]], dtype=float32)"
            ]
          },
          "metadata": {},
          "execution_count": 41
        }
      ]
    },
    {
      "cell_type": "markdown",
      "metadata": {
        "id": "t7mFNRf7S6ZK"
      },
      "source": [
        "### 🔴 Model improvement methods 1\n",
        "\n",
        "1. **Altering the steps to create the model** - Add layes and increase the number of hidden layers, Change activation function.\n",
        "\n",
        "\n",
        "2. **Compiling a model** - Change the optimization function or the learning rate of the optimization function.\n",
        "\n",
        "\n",
        "3. **Fitting a model** - Give more data and increase epochs. Do not overfit the value, in this case mse will go down but unseen value will be predicted incorrectly."
      ]
    },
    {
      "cell_type": "code",
      "metadata": {
        "colab": {
          "base_uri": "https://localhost:8080/"
        },
        "id": "ElaDe5QwT4vU",
        "outputId": "6f52ab1b-fa5a-4b97-caf6-529239d86352"
      },
      "source": [
        "# 1. Create a model\n",
        "\n",
        "model = tf.keras.Sequential([\n",
        "    tf.keras.layers.Dense(100, activation='relu'),\n",
        "    tf.keras.layers.Dense(100, activation='relu'),\n",
        "    tf.keras.layers.Dense(100, activation='relu'),\n",
        "    tf.keras.layers.Dense(1)                               \n",
        "])\n",
        "\n",
        "# 2. Compile the model\n",
        "\n",
        "model.compile(loss=tf.keras.losses.mse, \n",
        "optimizer=tf.keras.optimizers.SGD(learning_rate=0.0028)\n",
        ", metrics=['mse'])\n",
        "\n",
        "# 3. Fit the model\n",
        "\n",
        "model.fit(A, B, epochs=150)\n",
        "\n",
        "print(\"Done\")"
      ],
      "execution_count": null,
      "outputs": [
        {
          "output_type": "stream",
          "name": "stdout",
          "text": [
            "Epoch 1/150\n",
            "1/1 [==============================] - 0s 376ms/step - loss: 247.7501 - mse: 247.7501\n",
            "Epoch 2/150\n",
            "1/1 [==============================] - 0s 5ms/step - loss: 193.5607 - mse: 193.5607\n",
            "Epoch 3/150\n",
            "1/1 [==============================] - 0s 7ms/step - loss: 142.1608 - mse: 142.1608\n",
            "Epoch 4/150\n",
            "1/1 [==============================] - 0s 9ms/step - loss: 50.4637 - mse: 50.4637\n",
            "Epoch 5/150\n",
            "1/1 [==============================] - 0s 5ms/step - loss: 44.0714 - mse: 44.0714\n",
            "Epoch 6/150\n",
            "1/1 [==============================] - 0s 8ms/step - loss: 82.5369 - mse: 82.5369\n",
            "Epoch 7/150\n",
            "1/1 [==============================] - 0s 6ms/step - loss: 26.3137 - mse: 26.3137\n",
            "Epoch 8/150\n",
            "1/1 [==============================] - 0s 6ms/step - loss: 30.6234 - mse: 30.6234\n",
            "Epoch 9/150\n",
            "1/1 [==============================] - 0s 5ms/step - loss: 33.7270 - mse: 33.7270\n",
            "Epoch 10/150\n",
            "1/1 [==============================] - 0s 6ms/step - loss: 57.1778 - mse: 57.1778\n",
            "Epoch 11/150\n",
            "1/1 [==============================] - 0s 5ms/step - loss: 31.4092 - mse: 31.4092\n",
            "Epoch 12/150\n",
            "1/1 [==============================] - 0s 7ms/step - loss: 52.3786 - mse: 52.3786\n",
            "Epoch 13/150\n",
            "1/1 [==============================] - 0s 10ms/step - loss: 30.5261 - mse: 30.5261\n",
            "Epoch 14/150\n",
            "1/1 [==============================] - 0s 6ms/step - loss: 51.5200 - mse: 51.5200\n",
            "Epoch 15/150\n",
            "1/1 [==============================] - 0s 9ms/step - loss: 28.3614 - mse: 28.3614\n",
            "Epoch 16/150\n",
            "1/1 [==============================] - 0s 9ms/step - loss: 46.6194 - mse: 46.6194\n",
            "Epoch 17/150\n",
            "1/1 [==============================] - 0s 15ms/step - loss: 28.0267 - mse: 28.0267\n",
            "Epoch 18/150\n",
            "1/1 [==============================] - 0s 6ms/step - loss: 46.7954 - mse: 46.7954\n",
            "Epoch 19/150\n",
            "1/1 [==============================] - 0s 13ms/step - loss: 26.0348 - mse: 26.0348\n",
            "Epoch 20/150\n",
            "1/1 [==============================] - 0s 7ms/step - loss: 42.0998 - mse: 42.0998\n",
            "Epoch 21/150\n",
            "1/1 [==============================] - 0s 13ms/step - loss: 25.8389 - mse: 25.8389\n",
            "Epoch 22/150\n",
            "1/1 [==============================] - 0s 10ms/step - loss: 42.3928 - mse: 42.3928\n",
            "Epoch 23/150\n",
            "1/1 [==============================] - 0s 7ms/step - loss: 24.1864 - mse: 24.1864\n",
            "Epoch 24/150\n",
            "1/1 [==============================] - 0s 7ms/step - loss: 38.6057 - mse: 38.6057\n",
            "Epoch 25/150\n",
            "1/1 [==============================] - 0s 11ms/step - loss: 23.8090 - mse: 23.8090\n",
            "Epoch 26/150\n",
            "1/1 [==============================] - 0s 9ms/step - loss: 38.2878 - mse: 38.2878\n",
            "Epoch 27/150\n",
            "1/1 [==============================] - 0s 20ms/step - loss: 22.5548 - mse: 22.5548\n",
            "Epoch 28/150\n",
            "1/1 [==============================] - 0s 8ms/step - loss: 35.6080 - mse: 35.6080\n",
            "Epoch 29/150\n",
            "1/1 [==============================] - 0s 9ms/step - loss: 21.9333 - mse: 21.9333\n",
            "Epoch 30/150\n",
            "1/1 [==============================] - 0s 12ms/step - loss: 34.6081 - mse: 34.6081\n",
            "Epoch 31/150\n",
            "1/1 [==============================] - 0s 12ms/step - loss: 20.9734 - mse: 20.9734\n",
            "Epoch 32/150\n",
            "1/1 [==============================] - 0s 9ms/step - loss: 32.7346 - mse: 32.7346\n",
            "Epoch 33/150\n",
            "1/1 [==============================] - 0s 7ms/step - loss: 20.2259 - mse: 20.2259\n",
            "Epoch 34/150\n",
            "1/1 [==============================] - 0s 17ms/step - loss: 31.4237 - mse: 31.4237\n",
            "Epoch 35/150\n",
            "1/1 [==============================] - 0s 5ms/step - loss: 19.4133 - mse: 19.4133\n",
            "Epoch 36/150\n",
            "1/1 [==============================] - 0s 7ms/step - loss: 29.9485 - mse: 29.9485\n",
            "Epoch 37/150\n",
            "1/1 [==============================] - 0s 5ms/step - loss: 18.6457 - mse: 18.6457\n",
            "Epoch 38/150\n",
            "1/1 [==============================] - 0s 5ms/step - loss: 28.5923 - mse: 28.5923\n",
            "Epoch 39/150\n",
            "1/1 [==============================] - 0s 6ms/step - loss: 17.8728 - mse: 17.8728\n",
            "Epoch 40/150\n",
            "1/1 [==============================] - 0s 6ms/step - loss: 27.2669 - mse: 27.2669\n",
            "Epoch 41/150\n",
            "1/1 [==============================] - 0s 5ms/step - loss: 17.1274 - mse: 17.1274\n",
            "Epoch 42/150\n",
            "1/1 [==============================] - 0s 5ms/step - loss: 25.9959 - mse: 25.9959\n",
            "Epoch 43/150\n",
            "1/1 [==============================] - 0s 6ms/step - loss: 16.3847 - mse: 16.3847\n",
            "Epoch 44/150\n",
            "1/1 [==============================] - 0s 7ms/step - loss: 24.7441 - mse: 24.7441\n",
            "Epoch 45/150\n",
            "1/1 [==============================] - 0s 5ms/step - loss: 15.6631 - mse: 15.6631\n",
            "Epoch 46/150\n",
            "1/1 [==============================] - 0s 6ms/step - loss: 23.5363 - mse: 23.5363\n",
            "Epoch 47/150\n",
            "1/1 [==============================] - 0s 6ms/step - loss: 14.9551 - mse: 14.9551\n",
            "Epoch 48/150\n",
            "1/1 [==============================] - 0s 6ms/step - loss: 22.3755 - mse: 22.3755\n",
            "Epoch 49/150\n",
            "1/1 [==============================] - 0s 6ms/step - loss: 14.2301 - mse: 14.2301\n",
            "Epoch 50/150\n",
            "1/1 [==============================] - 0s 5ms/step - loss: 21.1872 - mse: 21.1872\n",
            "Epoch 51/150\n",
            "1/1 [==============================] - 0s 7ms/step - loss: 13.5512 - mse: 13.5512\n",
            "Epoch 52/150\n",
            "1/1 [==============================] - 0s 5ms/step - loss: 20.1344 - mse: 20.1344\n",
            "Epoch 53/150\n",
            "1/1 [==============================] - 0s 9ms/step - loss: 12.9676 - mse: 12.9676\n",
            "Epoch 54/150\n",
            "1/1 [==============================] - 0s 8ms/step - loss: 19.3559 - mse: 19.3559\n",
            "Epoch 55/150\n",
            "1/1 [==============================] - 0s 7ms/step - loss: 12.2521 - mse: 12.2521\n",
            "Epoch 56/150\n",
            "1/1 [==============================] - 0s 5ms/step - loss: 18.0788 - mse: 18.0788\n",
            "Epoch 57/150\n",
            "1/1 [==============================] - 0s 9ms/step - loss: 11.5892 - mse: 11.5892\n",
            "Epoch 58/150\n",
            "1/1 [==============================] - 0s 7ms/step - loss: 17.0660 - mse: 17.0660\n",
            "Epoch 59/150\n",
            "1/1 [==============================] - 0s 8ms/step - loss: 11.1346 - mse: 11.1346\n",
            "Epoch 60/150\n",
            "1/1 [==============================] - 0s 6ms/step - loss: 16.6319 - mse: 16.6319\n",
            "Epoch 61/150\n",
            "1/1 [==============================] - 0s 6ms/step - loss: 10.4239 - mse: 10.4239\n",
            "Epoch 62/150\n",
            "1/1 [==============================] - 0s 7ms/step - loss: 15.3409 - mse: 15.3409\n",
            "Epoch 63/150\n",
            "1/1 [==============================] - 0s 5ms/step - loss: 9.8874 - mse: 9.8874\n",
            "Epoch 64/150\n",
            "1/1 [==============================] - 0s 6ms/step - loss: 14.5742 - mse: 14.5742\n",
            "Epoch 65/150\n",
            "1/1 [==============================] - 0s 4ms/step - loss: 9.3676 - mse: 9.3676\n",
            "Epoch 66/150\n",
            "1/1 [==============================] - 0s 5ms/step - loss: 13.8828 - mse: 13.8828\n",
            "Epoch 67/150\n",
            "1/1 [==============================] - 0s 5ms/step - loss: 8.8229 - mse: 8.8229\n",
            "Epoch 68/150\n",
            "1/1 [==============================] - 0s 5ms/step - loss: 12.9770 - mse: 12.9770\n",
            "Epoch 69/150\n",
            "1/1 [==============================] - 0s 5ms/step - loss: 8.2718 - mse: 8.2718\n",
            "Epoch 70/150\n",
            "1/1 [==============================] - 0s 5ms/step - loss: 12.2119 - mse: 12.2119\n",
            "Epoch 71/150\n",
            "1/1 [==============================] - 0s 6ms/step - loss: 7.8180 - mse: 7.8180\n",
            "Epoch 72/150\n",
            "1/1 [==============================] - 0s 5ms/step - loss: 11.5739 - mse: 11.5739\n",
            "Epoch 73/150\n",
            "1/1 [==============================] - 0s 5ms/step - loss: 7.3096 - mse: 7.3096\n",
            "Epoch 74/150\n",
            "1/1 [==============================] - 0s 5ms/step - loss: 10.7091 - mse: 10.7091\n",
            "Epoch 75/150\n",
            "1/1 [==============================] - 0s 4ms/step - loss: 6.8509 - mse: 6.8509\n",
            "Epoch 76/150\n",
            "1/1 [==============================] - 0s 5ms/step - loss: 10.1315 - mse: 10.1315\n",
            "Epoch 77/150\n",
            "1/1 [==============================] - 0s 8ms/step - loss: 6.5240 - mse: 6.5240\n",
            "Epoch 78/150\n",
            "1/1 [==============================] - 0s 7ms/step - loss: 9.8871 - mse: 9.8871\n",
            "Epoch 79/150\n",
            "1/1 [==============================] - 0s 8ms/step - loss: 6.0860 - mse: 6.0860\n",
            "Epoch 80/150\n",
            "1/1 [==============================] - 0s 10ms/step - loss: 9.0338 - mse: 9.0338\n",
            "Epoch 81/150\n",
            "1/1 [==============================] - 0s 8ms/step - loss: 5.6620 - mse: 5.6620\n",
            "Epoch 82/150\n",
            "1/1 [==============================] - 0s 7ms/step - loss: 8.4369 - mse: 8.4369\n",
            "Epoch 83/150\n",
            "1/1 [==============================] - 0s 12ms/step - loss: 5.3149 - mse: 5.3149\n",
            "Epoch 84/150\n",
            "1/1 [==============================] - 0s 6ms/step - loss: 7.9984 - mse: 7.9984\n",
            "Epoch 85/150\n",
            "1/1 [==============================] - 0s 7ms/step - loss: 5.0093 - mse: 5.0093\n",
            "Epoch 86/150\n",
            "1/1 [==============================] - 0s 9ms/step - loss: 7.5658 - mse: 7.5658\n",
            "Epoch 87/150\n",
            "1/1 [==============================] - 0s 6ms/step - loss: 4.7811 - mse: 4.7811\n",
            "Epoch 88/150\n",
            "1/1 [==============================] - 0s 9ms/step - loss: 7.3478 - mse: 7.3478\n",
            "Epoch 89/150\n",
            "1/1 [==============================] - 0s 6ms/step - loss: 4.5279 - mse: 4.5279\n",
            "Epoch 90/150\n",
            "1/1 [==============================] - 0s 10ms/step - loss: 6.8868 - mse: 6.8868\n",
            "Epoch 91/150\n",
            "1/1 [==============================] - 0s 8ms/step - loss: 4.3082 - mse: 4.3082\n",
            "Epoch 92/150\n",
            "1/1 [==============================] - 0s 8ms/step - loss: 6.6289 - mse: 6.6289\n",
            "Epoch 93/150\n",
            "1/1 [==============================] - 0s 6ms/step - loss: 4.0938 - mse: 4.0938\n",
            "Epoch 94/150\n",
            "1/1 [==============================] - 0s 5ms/step - loss: 6.2708 - mse: 6.2708\n",
            "Epoch 95/150\n",
            "1/1 [==============================] - 0s 6ms/step - loss: 3.8732 - mse: 3.8732\n",
            "Epoch 96/150\n",
            "1/1 [==============================] - 0s 8ms/step - loss: 5.9401 - mse: 5.9401\n",
            "Epoch 97/150\n",
            "1/1 [==============================] - 0s 8ms/step - loss: 3.6552 - mse: 3.6552\n",
            "Epoch 98/150\n",
            "1/1 [==============================] - 0s 16ms/step - loss: 5.5768 - mse: 5.5768\n",
            "Epoch 99/150\n",
            "1/1 [==============================] - 0s 6ms/step - loss: 3.4536 - mse: 3.4536\n",
            "Epoch 100/150\n",
            "1/1 [==============================] - 0s 5ms/step - loss: 5.2604 - mse: 5.2604\n",
            "Epoch 101/150\n",
            "1/1 [==============================] - 0s 9ms/step - loss: 3.2870 - mse: 3.2870\n",
            "Epoch 102/150\n",
            "1/1 [==============================] - 0s 8ms/step - loss: 4.9804 - mse: 4.9804\n",
            "Epoch 103/150\n",
            "1/1 [==============================] - 0s 14ms/step - loss: 3.1265 - mse: 3.1265\n",
            "Epoch 104/150\n",
            "1/1 [==============================] - 0s 8ms/step - loss: 4.7126 - mse: 4.7126\n",
            "Epoch 105/150\n",
            "1/1 [==============================] - 0s 6ms/step - loss: 2.9776 - mse: 2.9776\n",
            "Epoch 106/150\n",
            "1/1 [==============================] - 0s 7ms/step - loss: 4.4754 - mse: 4.4754\n",
            "Epoch 107/150\n",
            "1/1 [==============================] - 0s 7ms/step - loss: 2.8398 - mse: 2.8398\n",
            "Epoch 108/150\n",
            "1/1 [==============================] - 0s 8ms/step - loss: 4.2325 - mse: 4.2325\n",
            "Epoch 109/150\n",
            "1/1 [==============================] - 0s 5ms/step - loss: 2.7046 - mse: 2.7046\n",
            "Epoch 110/150\n",
            "1/1 [==============================] - 0s 6ms/step - loss: 3.9973 - mse: 3.9973\n",
            "Epoch 111/150\n",
            "1/1 [==============================] - 0s 6ms/step - loss: 2.5734 - mse: 2.5734\n",
            "Epoch 112/150\n",
            "1/1 [==============================] - 0s 7ms/step - loss: 3.7763 - mse: 3.7763\n",
            "Epoch 113/150\n",
            "1/1 [==============================] - 0s 8ms/step - loss: 2.4490 - mse: 2.4490\n",
            "Epoch 114/150\n",
            "1/1 [==============================] - 0s 8ms/step - loss: 3.5579 - mse: 3.5579\n",
            "Epoch 115/150\n",
            "1/1 [==============================] - 0s 7ms/step - loss: 2.3290 - mse: 2.3290\n",
            "Epoch 116/150\n",
            "1/1 [==============================] - 0s 10ms/step - loss: 3.3593 - mse: 3.3593\n",
            "Epoch 117/150\n",
            "1/1 [==============================] - 0s 6ms/step - loss: 2.2158 - mse: 2.2158\n",
            "Epoch 118/150\n",
            "1/1 [==============================] - 0s 7ms/step - loss: 3.1630 - mse: 3.1630\n",
            "Epoch 119/150\n",
            "1/1 [==============================] - 0s 7ms/step - loss: 2.1065 - mse: 2.1065\n",
            "Epoch 120/150\n",
            "1/1 [==============================] - 0s 7ms/step - loss: 2.9923 - mse: 2.9923\n",
            "Epoch 121/150\n",
            "1/1 [==============================] - 0s 9ms/step - loss: 2.0091 - mse: 2.0091\n",
            "Epoch 122/150\n",
            "1/1 [==============================] - 0s 6ms/step - loss: 2.8226 - mse: 2.8226\n",
            "Epoch 123/150\n",
            "1/1 [==============================] - 0s 7ms/step - loss: 1.9114 - mse: 1.9114\n",
            "Epoch 124/150\n",
            "1/1 [==============================] - 0s 10ms/step - loss: 2.6668 - mse: 2.6668\n",
            "Epoch 125/150\n",
            "1/1 [==============================] - 0s 16ms/step - loss: 1.8214 - mse: 1.8214\n",
            "Epoch 126/150\n",
            "1/1 [==============================] - 0s 8ms/step - loss: 2.5261 - mse: 2.5261\n",
            "Epoch 127/150\n",
            "1/1 [==============================] - 0s 15ms/step - loss: 1.7369 - mse: 1.7369\n",
            "Epoch 128/150\n",
            "1/1 [==============================] - 0s 21ms/step - loss: 2.3809 - mse: 2.3809\n",
            "Epoch 129/150\n",
            "1/1 [==============================] - 0s 11ms/step - loss: 1.6522 - mse: 1.6522\n",
            "Epoch 130/150\n",
            "1/1 [==============================] - 0s 13ms/step - loss: 2.2477 - mse: 2.2477\n",
            "Epoch 131/150\n",
            "1/1 [==============================] - 0s 12ms/step - loss: 1.5732 - mse: 1.5732\n",
            "Epoch 132/150\n",
            "1/1 [==============================] - 0s 8ms/step - loss: 2.1233 - mse: 2.1233\n",
            "Epoch 133/150\n",
            "1/1 [==============================] - 0s 6ms/step - loss: 1.4977 - mse: 1.4977\n",
            "Epoch 134/150\n",
            "1/1 [==============================] - 0s 9ms/step - loss: 2.0075 - mse: 2.0075\n",
            "Epoch 135/150\n",
            "1/1 [==============================] - 0s 12ms/step - loss: 1.4261 - mse: 1.4261\n",
            "Epoch 136/150\n",
            "1/1 [==============================] - 0s 6ms/step - loss: 1.8941 - mse: 1.8941\n",
            "Epoch 137/150\n",
            "1/1 [==============================] - 0s 8ms/step - loss: 1.3579 - mse: 1.3579\n",
            "Epoch 138/150\n",
            "1/1 [==============================] - 0s 12ms/step - loss: 1.7934 - mse: 1.7934\n",
            "Epoch 139/150\n",
            "1/1 [==============================] - 0s 7ms/step - loss: 1.2952 - mse: 1.2952\n",
            "Epoch 140/150\n",
            "1/1 [==============================] - 0s 8ms/step - loss: 1.6954 - mse: 1.6954\n",
            "Epoch 141/150\n",
            "1/1 [==============================] - 0s 8ms/step - loss: 1.2349 - mse: 1.2349\n",
            "Epoch 142/150\n",
            "1/1 [==============================] - 0s 21ms/step - loss: 1.6095 - mse: 1.6095\n",
            "Epoch 143/150\n",
            "1/1 [==============================] - 0s 21ms/step - loss: 1.1794 - mse: 1.1794\n",
            "Epoch 144/150\n",
            "1/1 [==============================] - 0s 8ms/step - loss: 1.5231 - mse: 1.5231\n",
            "Epoch 145/150\n",
            "1/1 [==============================] - 0s 6ms/step - loss: 1.1240 - mse: 1.1240\n",
            "Epoch 146/150\n",
            "1/1 [==============================] - 0s 6ms/step - loss: 1.4416 - mse: 1.4416\n",
            "Epoch 147/150\n",
            "1/1 [==============================] - 0s 8ms/step - loss: 1.0708 - mse: 1.0708\n",
            "Epoch 148/150\n",
            "1/1 [==============================] - 0s 5ms/step - loss: 1.3647 - mse: 1.3647\n",
            "Epoch 149/150\n",
            "1/1 [==============================] - 0s 7ms/step - loss: 1.0210 - mse: 1.0210\n",
            "Epoch 150/150\n",
            "1/1 [==============================] - 0s 7ms/step - loss: 1.2947 - mse: 1.2947\n",
            "Done\n"
          ]
        }
      ]
    },
    {
      "cell_type": "code",
      "metadata": {
        "colab": {
          "base_uri": "https://localhost:8080/"
        },
        "id": "wsdRbwGHVPTd",
        "outputId": "a9c07712-3daa-4fc8-9987-df24692f7171"
      },
      "source": [
        "model.predict([[17]])"
      ],
      "execution_count": null,
      "outputs": [
        {
          "output_type": "execute_result",
          "data": {
            "text/plain": [
              "array([[39.264656]], dtype=float32)"
            ]
          },
          "metadata": {},
          "execution_count": 43
        }
      ]
    },
    {
      "cell_type": "code",
      "metadata": {
        "colab": {
          "base_uri": "https://localhost:8080/"
        },
        "id": "xpN5r8YaISem",
        "outputId": "7942f767-c2d7-4e78-f7d7-b1c6b7b6c9ce"
      },
      "source": [
        "print(A)\n",
        "print(B)"
      ],
      "execution_count": null,
      "outputs": [
        {
          "output_type": "stream",
          "name": "stdout",
          "text": [
            "tf.Tensor(\n",
            "[[-5]\n",
            " [-3]\n",
            " [-1]\n",
            " [ 1]\n",
            " [ 3]\n",
            " [ 5]\n",
            " [ 7]\n",
            " [ 9]], shape=(8, 1), dtype=int64)\n",
            "tf.Tensor(\n",
            "[[ 3]\n",
            " [ 6]\n",
            " [ 9]\n",
            " [12]\n",
            " [15]\n",
            " [18]\n",
            " [21]\n",
            " [24]], shape=(8, 1), dtype=int64)\n"
          ]
        }
      ]
    },
    {
      "cell_type": "markdown",
      "metadata": {
        "id": "ZLHSAntmLPIp"
      },
      "source": [
        "### ⚫ Modelling analysis\n",
        "\n",
        "1. Create\n",
        "\n",
        "2. Compile\n",
        "\n",
        "3. Fit\n",
        "\n",
        "4. Tweak\n"
      ]
    },
    {
      "cell_type": "markdown",
      "metadata": {
        "id": "3Pj-iVA-MoYo"
      },
      "source": [
        "### 🔴 Model Evaluation\n",
        "\n",
        "Visualize the following:\n",
        "1. Data\n",
        "\n",
        "2. Model\n",
        "\n",
        "3. Training of the Model\n",
        "\n",
        "4. Predictions of the models."
      ]
    },
    {
      "cell_type": "code",
      "metadata": {
        "colab": {
          "base_uri": "https://localhost:8080/"
        },
        "id": "2g7vvYihT0Ig",
        "outputId": "f4ff92f9-c210-4812-b0f3-11f4e3838d6c"
      },
      "source": [
        "# Bigger model\n",
        "x = tf.range(-100, 100, 4)\n",
        "x = x[..., tf.newaxis]\n",
        "y = x + 20\n",
        "\n",
        "plt.scatter(x, y)"
      ],
      "execution_count": null,
      "outputs": [
        {
          "output_type": "execute_result",
          "data": {
            "text/plain": [
              "<matplotlib.collections.PathCollection at 0x7f3ac1d48c10>"
            ]
          },
          "metadata": {},
          "execution_count": 45
        },
        {
          "output_type": "display_data",
          "data": {
            "image/png": "[encoded data removed]",
            "text/plain": [
              "<Figure size 432x288 with 1 Axes>"
            ]
          },
          "metadata": {
            "needs_background": "light"
          }
        }
      ]
    },
    {
      "cell_type": "markdown",
      "metadata": {
        "id": "-iL_FVUHVeyu"
      },
      "source": [
        "### ⚫ The three set principle\n",
        "\n",
        "1. Training Set: Model learns from this data, (70-80% of all available data)\n",
        "\n",
        "2. Validation Set: Model get tuned on this data, (10-15% of all available data)\n",
        "\n",
        "3. Test Set: Evaluation of Model is done on this set, (10-15% of all available data)"
      ]
    },
    {
      "cell_type": "code",
      "metadata": {
        "colab": {
          "base_uri": "https://localhost:8080/",
          "height": 353
        },
        "id": "0uMr8ghcWHqt",
        "outputId": "cfbd3161-653f-4ead-8eaf-ab4cc6a1a472"
      },
      "source": [
        "# Training data set\n",
        "x_train = x[:40]\n",
        "y_train = y[:40] \n",
        "\n",
        "# Validation set\n",
        "# x_validate = x[40:45]\n",
        "# y_validate = y[40:45]\n",
        "\n",
        "# Test set \n",
        "x_test = x[40:]\n",
        "y_test = y[40:]\n",
        "\n",
        "# Visualizing this\n",
        "plt.figure(figsize=(7.5,5.25))\n",
        "\n",
        "# Plotting the scatter graphs\n",
        "plt.scatter(x_train, y_train, c='r', label='Train')\n",
        "plt.scatter(x_test, y_test, c='b', label='Test')\n",
        "\n",
        "# Legend\n",
        "plt.legend()"
      ],
      "execution_count": null,
      "outputs": [
        {
          "output_type": "execute_result",
          "data": {
            "text/plain": [
              "<matplotlib.legend.Legend at 0x7f3ac1cbecd0>"
            ]
          },
          "metadata": {},
          "execution_count": 46
        },
        {
          "output_type": "display_data",
          "data": {
            "image/png": "[encoded data removed]",
            "text/plain": [
              "<Figure size 540x378 with 1 Axes>"
            ]
          },
          "metadata": {
            "needs_background": "light"
          }
        }
      ]
    },
    {
      "cell_type": "code",
      "metadata": {
        "colab": {
          "base_uri": "https://localhost:8080/"
        },
        "id": "dhTyZ7F6Xunw",
        "outputId": "0308096a-6a31-428f-fc61-c4ec79334538"
      },
      "source": [
        "# Model Creation\n",
        "model = tf.keras.Sequential([\n",
        "    tf.keras.layers.Dense(100, activation='relu'),\n",
        "    tf.keras.layers.Dense(100, activation='relu'),\n",
        "    tf.keras.layers.Dense(100, activation='relu'),\n",
        "    tf.keras.layers.Dense(1)\n",
        "])\n",
        "\n",
        "\n",
        "# Model compile\n",
        "model.compile(\n",
        "    loss=tf.losses.mse,\n",
        "    optimizer=tf.optimizers.Adam(learning_rate=0.005),\n",
        "    metrics=['mse']\n",
        ")\n",
        "\n",
        "# Model fitting\n",
        "model.fit(\n",
        "    x, y, epochs=100, verbose=0\n",
        ")"
      ],
      "execution_count": 63,
      "outputs": [
        {
          "output_type": "execute_result",
          "data": {
            "text/plain": [
              "<keras.callbacks.History at 0x7f3ac20538d0>"
            ]
          },
          "metadata": {},
          "execution_count": 63
        }
      ]
    },
    {
      "cell_type": "code",
      "metadata": {
        "colab": {
          "base_uri": "https://localhost:8080/"
        },
        "id": "5W5JzN-jbcSH",
        "outputId": "510b3fc7-ab48-4615-be94-448351bd3673"
      },
      "source": [
        "x_pred = x_test\n",
        "y_pred = model.predict(x_pred)\n",
        "y_pred"
      ],
      "execution_count": 95,
      "outputs": [
        {
          "output_type": "execute_result",
          "data": {
            "text/plain": [
              "array([[ 80.20588],\n",
              "       [ 84.22865],\n",
              "       [ 88.25143],\n",
              "       [ 92.27419],\n",
              "       [ 96.29698],\n",
              "       [100.31974],\n",
              "       [104.34252],\n",
              "       [108.36531],\n",
              "       [112.38808],\n",
              "       [116.41084]], dtype=float32)"
            ]
          },
          "metadata": {},
          "execution_count": 95
        }
      ]
    },
    {
      "cell_type": "code",
      "metadata": {
        "colab": {
          "base_uri": "https://localhost:8080/",
          "height": 532
        },
        "id": "iJ0b0ZdXNRBY",
        "outputId": "4cae9952-552f-4abc-d8f9-24fa66e79e94"
      },
      "source": [
        "from tensorflow.keras.utils import plot_model\n",
        "plot_model(model=model, show_shapes= True)"
      ],
      "execution_count": 91,
      "outputs": [
        {
          "output_type": "execute_result",
          "data": {
            "image/png": "[encoded data removed]",
            "text/plain": [
              "<IPython.core.display.Image object>"
            ]
          },
          "metadata": {},
          "execution_count": 91
        }
      ]
    },
    {
      "cell_type": "markdown",
      "metadata": {
        "id": "-wIIV9N9O4-x"
      },
      "source": [
        "### ⚫ Vizualizing model prediction\n",
        "\n",
        "Plot againts the ground truth layers, do this in the form of y_test v. y_truth. Create a plot function [code reusiblity]\n"
      ]
    },
    {
      "cell_type": "code",
      "metadata": {
        "colab": {
          "base_uri": "https://localhost:8080/",
          "height": 457
        },
        "id": "EbX6BNLiUDGB",
        "outputId": "2ed48ed1-f385-4ce7-ad60-1887adcc9c61"
      },
      "source": [
        "# Defining function to plot trainin v. test data\n",
        "\n",
        "def plot_data(x_train=x_train, y_train=y_train, x_test=x_test, y_test=y_test, y_pred=y_pred, x_pred=x_pred):\n",
        "  plt.figure(figsize=(10,7.5))\n",
        "  plt.scatter(x_train, y_train, c=\"b\", label='training')\n",
        "  plt.scatter(x_test, y_test, c='g', label='testing')\n",
        "  plt.scatter(x_pred, y_pred, c='r', label='predicted' )\n",
        "\n",
        "plot_data(x_test=x_test, y_test=y_test, y_train=y_train, x_pred=x_pred)"
      ],
      "execution_count": 97,
      "outputs": [
        {
          "output_type": "display_data",
          "data": {
            "image/png": "[encoded data removed]",
            "text/plain": [
              "<Figure size 720x540 with 1 Axes>"
            ]
          },
          "metadata": {
            "needs_background": "light"
          }
        }
      ]
    },
    {
      "cell_type": "markdown",
      "metadata": {
        "id": "3cfEVOdQ0Vuo"
      },
      "source": [
        "### ⚫ Model evaluation using Regression Metrics\n",
        "MAE = 1/n Σ(i=1 to n) (|yi - 𝒴i|)\n",
        "\n",
        "MSE = 1/n Σ(i=1 to n) (|(yi) - (𝒴i)|)^2\n",
        "\n",
        "Huber = https://external-content.duckduckgo.com/iu/?u=https%3A%2F%2Flindevs.com%2Fwp-content%2Fuploads%2F2020%2F11%2Fformula_to_calculate_huber_loss.png&f=1&nofb=1\n",
        "\n",
        "MSE => When larger errors are more significant then smaller ones\n",
        "\n",
        "MAE => When smaller errors are more significant tan larger ones\n",
        "\n",
        "Huber => It is a combination of Mean Squared error and Mean Average error"
      ]
    },
    {
      "cell_type": "code",
      "metadata": {
        "colab": {
          "base_uri": "https://localhost:8080/"
        },
        "id": "wr38MO6o0gO1",
        "outputId": "20e107c7-9795-4776-cdfd-93310209c6dd"
      },
      "source": [
        "# Model Evaluation using the error specified in the metrics segment during compilation\n",
        "model.evaluate(x_test, y_test)\n",
        "\n",
        "# Model evaluation using the predicted (y_pred) and real values (y_test),\n",
        "#   => Shape Must be squeezed to eliminate the extra dimension\n",
        "\n",
        "# 1. Mean Absolute Error\n",
        "MAE = tf.metrics.mean_absolute_error(tf.squeeze(y_test), tf.squeeze(y_pred)).numpy()\n",
        "\n",
        "# 2. Mean Square Error \n",
        "MSE = tf.metrics.mean_squared_error(tf.squeeze(y_test), tf.squeeze(y_pred)).numpy()\n",
        "\n",
        "# 3. Huber Loss\n",
        "HUBER = tf.losses.huber(tf.squeeze(y_test), tf.squeeze(y_pred)).numpy()\n",
        "print(MSE, MAE, HUBER)\n",
        "\n",
        "\n",
        "def loss_calculator(y_pred=y_pred, y_test=y_test):\n",
        "    MAE = tf.metrics.mean_absolute_error(y_test, y_pred).numpy()\n",
        "    MSE = tf.metrics.mean_squared_error(y_test, y_pred).numpy()\n",
        "    HUBER = tf.losses.huber(y_test, y_pred).numpy()\n",
        "    print(f'MSE:{MSE}, MAE:{MAE}, HUBER:{HUBER}')\n",
        "    return{'mae': MAE, 'mse': MSE, 'huber': HUBER}\n"
      ],
      "execution_count": 147,
      "outputs": [
        {
          "output_type": "stream",
          "name": "stdout",
          "text": [
            "1/1 [==============================] - 0s 42ms/step - loss: 0.0994 - mse: 0.0994\n",
            "0.0993666 0.30836257 0.0496833\n"
          ]
        }
      ]
    },
    {
      "cell_type": "markdown",
      "metadata": {
        "id": "xIsinqWP-J5m"
      },
      "source": [
        "### 🔴 Model improvement methods 2\n",
        "\n",
        "1. **Altering the steps to create the model** - Add layes and increase the number of hidden layers, Change activation function.\n",
        "\n",
        "\n",
        "2. **Compiling a model** - Change the optimization function or the learning rate of the optimization function.\n",
        "\n",
        "\n",
        "3. **Fitting a model** - Give more data and increase epochs. Do not overfit the value, in this case mse will go down but unseen value will be predicted incorrectly.\n",
        "\n",
        "\n",
        "Performing three experiments:\n",
        "\n",
        "**model_1** => Same data as the original model, 1 Dense layer, trained for 100 epochs.\n",
        "\n",
        "**model_2** => 2 Layers trained for a 100 epochs.\n",
        "\n",
        "**model_3**  => 2 Layers trained for 500 epochs."
      ]
    },
    {
      "cell_type": "code",
      "metadata": {
        "colab": {
          "base_uri": "https://localhost:8080/"
        },
        "id": "mLl5X4lX-QtO",
        "outputId": "d7995906-6550-4c64-ba4c-41743468c4fa"
      },
      "source": [
        "tf.random.set_seed(42)\n",
        "\n",
        "# Model Create\n",
        "model1 = tf.keras.Sequential([\n",
        "    tf.keras.layers.Dense(1)\n",
        "])\n",
        "\n",
        "model2 = tf.keras.Sequential([\n",
        "    tf.keras.layers.Dense(100, activation='relu'),\n",
        "    tf.keras.layers.Dense(100, activation='relu'),\n",
        "    tf.keras.layers.Dense(1)\n",
        "])\n",
        "\n",
        "model3 = tf.keras.Sequential([\n",
        "    tf.keras.layers.Dense(100, activation='relu'),\n",
        "    tf.keras.layers.Dense(100, activation='relu'),\n",
        "    tf.keras.layers.Dense(1)\n",
        "])\n",
        "\n",
        "# Model Compile\n",
        "model1.compile(loss=tf.keras.losses.mae,\n",
        "               optimizer=tf.keras.optimizers.Adam(learning_rate=0.1),\n",
        "               metrics=['mae'])\n",
        "\n",
        "model2.compile(loss=tf.keras.losses.mae,\n",
        "               optimizer=tf.keras.optimizers.Adam(learning_rate=0.1),\n",
        "               metrics=['mae'])\n",
        "\n",
        "\n",
        "model3.compile(loss=tf.keras.losses.mae,\n",
        "               optimizer=tf.keras.optimizers.Adam(learning_rate=0.1),\n",
        "               metrics=['mae'])\n",
        "\n",
        "# Model fit\n",
        "model1.fit(x_train, y_train, epochs=20 , verbose=0)\n",
        "model1.fit(x_train, y_train, epochs=20, verbose=0)\n",
        "model1.fit(x_train, y_train, epochs=100, verbose=0)\n"
      ],
      "execution_count": 148,
      "outputs": [
        {
          "output_type": "execute_result",
          "data": {
            "text/plain": [
              "<keras.callbacks.History at 0x7f3abfadc6d0>"
            ]
          },
          "metadata": {},
          "execution_count": 148
        }
      ]
    },
    {
      "cell_type": "code",
      "metadata": {
        "colab": {
          "base_uri": "https://localhost:8080/"
        },
        "id": "HRC_U4dMHpAr",
        "outputId": "f8699fc7-cafc-4814-ff2c-8f58d71c2bda"
      },
      "source": [
        "m1 = model1.predict(x_test)\n",
        "m2 = model2.predict(x_test)\n",
        "m3 = model3.predict(x_test)\n",
        "\n",
        "# plot_data(y_pred=m1)\n",
        "# plot_data(y_pred=m2)\n",
        "# plot_data(y_pred=m3)\n",
        "\n",
        "lm1 = loss_calculator(tf.squeeze(m1), tf.squeeze(y_test))\n",
        "lm2 = loss_calculator(tf.squeeze(m2), tf.squeeze(y_test))\n",
        "lm3 = loss_calculator(tf.squeeze(m3), tf.squeeze(y_test))\n"
      ],
      "execution_count": 149,
      "outputs": [
        {
          "output_type": "stream",
          "name": "stdout",
          "text": [
            "MSE:0.8817726373672485, MAE:0.9281196594238281, HUBER:0.4390779137611389\n",
            "MSE:9830.673828125, MAE:98.47367858886719, HUBER:97.97367858886719\n",
            "MSE:9695.583984375, MAE:97.79708099365234, HUBER:97.29708099365234\n"
          ]
        }
      ]
    },
    {
      "cell_type": "markdown",
      "metadata": {
        "id": "MAclgU-aKY7k"
      },
      "source": [
        "Start small experiments and increase size of alpha and etc to fit the trend"
      ]
    },
    {
      "cell_type": "markdown",
      "metadata": {
        "id": "1oP82OJWNBh2"
      },
      "source": [
        "### ⚫ Compare results from multiple models"
      ]
    },
    {
      "cell_type": "code",
      "metadata": {
        "colab": {
          "base_uri": "https://localhost:8080/",
          "height": 143
        },
        "id": "_TS5K9nNNLR1",
        "outputId": "beb137b4-e1ab-4e8f-94d1-5e5f28d352ce"
      },
      "source": [
        "import pandas as pd\n",
        "model_results = [[\"model1\", lm1['mae'], lm1['mse'], lm1['huber']],\n",
        "                 [\"model2\", lm2['mae'], lm2['mse'], lm2['huber']],\n",
        "                 [\"model3\", lm3['mae'], lm3['mse'], lm3['huber']]]\n",
        "\n",
        "all_results = pd.DataFrame(model_results, columns=[\"model\", \"MAE\", \"MSE\", \"Huber\"])\n",
        "all_results"
      ],
      "execution_count": 154,
      "outputs": [
        {
          "output_type": "execute_result",
          "data": {
            "text/html": [
              "<div>\n",
              "<style scoped>\n",
              "    .dataframe tbody tr th:only-of-type {\n",
              "        vertical-align: middle;\n",
              "    }\n",
              "\n",
              "    .dataframe tbody tr th {\n",
              "        vertical-align: top;\n",
              "    }\n",
              "\n",
              "    .dataframe thead th {\n",
              "        text-align: right;\n",
              "    }\n",
              "</style>\n",
              "<table border=\"1\" class=\"dataframe\">\n",
              "  <thead>\n",
              "    <tr style=\"text-align: right;\">\n",
              "      <th></th>\n",
              "      <th>model</th>\n",
              "      <th>MAE</th>\n",
              "      <th>MSE</th>\n",
              "      <th>Huber</th>\n",
              "    </tr>\n",
              "  </thead>\n",
              "  <tbody>\n",
              "    <tr>\n",
              "      <th>0</th>\n",
              "      <td>model1</td>\n",
              "      <td>0.928120</td>\n",
              "      <td>0.881773</td>\n",
              "      <td>0.439078</td>\n",
              "    </tr>\n",
              "    <tr>\n",
              "      <th>1</th>\n",
              "      <td>model2</td>\n",
              "      <td>98.473679</td>\n",
              "      <td>9830.673828</td>\n",
              "      <td>97.973679</td>\n",
              "    </tr>\n",
              "    <tr>\n",
              "      <th>2</th>\n",
              "      <td>model3</td>\n",
              "      <td>97.797081</td>\n",
              "      <td>9695.583984</td>\n",
              "      <td>97.297081</td>\n",
              "    </tr>\n",
              "  </tbody>\n",
              "</table>\n",
              "</div>"
            ],
            "text/plain": [
              "    model        MAE          MSE      Huber\n",
              "0  model1   0.928120     0.881773   0.439078\n",
              "1  model2  98.473679  9830.673828  97.973679\n",
              "2  model3  97.797081  9695.583984  97.297081"
            ]
          },
          "metadata": {},
          "execution_count": 154
        }
      ]
    },
    {
      "cell_type": "markdown",
      "metadata": {
        "id": "1FegVrDLPPAA"
      },
      "source": [
        "Model 1 Performed best, goal: Minimize time between experiments"
      ]
    },
    {
      "cell_type": "markdown",
      "metadata": {
        "id": "__3MarBDPocy"
      },
      "source": [
        "### 🔴 Saving the Models\n",
        "\n",
        "Two ways to save model:\n",
        "\n",
        "1. SavedModel Format\n",
        "\n",
        "2. HDF5 Format"
      ]
    },
    {
      "cell_type": "code",
      "metadata": {
        "colab": {
          "base_uri": "https://localhost:8080/"
        },
        "id": "KyFNma4WQxWQ",
        "outputId": "6bae9af2-0751-44c6-f73b-5e2bd1562596"
      },
      "source": [
        "# SavedModel Format\n",
        "model1.save('bestModel_SavedModel')"
      ],
      "execution_count": 157,
      "outputs": [
        {
          "output_type": "stream",
          "name": "stdout",
          "text": [
            "INFO:tensorflow:Assets written to: bestModel_SavedModel/assets\n"
          ]
        }
      ]
    },
    {
      "cell_type": "code",
      "metadata": {
        "id": "MjY2icuuZvom"
      },
      "source": [
        "# Save model in HDF5\n",
        "model1.save('bestModel_HDF5.h5')"
      ],
      "execution_count": 159,
      "outputs": []
    },
    {
      "cell_type": "code",
      "metadata": {
        "colab": {
          "base_uri": "https://localhost:8080/"
        },
        "id": "ejgiR-BXaG0j",
        "outputId": "881c8a31-1927-4a93-e670-a7c0072c35a0"
      },
      "source": [
        "# Reloading Model back\n",
        "load_model1_saved = tf.keras.models.load_model('bestModel_SavedModel')\n",
        "load_model1_h5 = tf.keras.models.load_model('bestModel_HDF5.h5')\n",
        "load_model1_h5.summary()\n",
        "load_model1_saved.summary()\n",
        "\n",
        "print(load_model1_h5.predict(x_test) == load_model1_saved.predict(x_test))\n",
        "print(model1.predict(x_test) == load_model1_h5.predict(x_test))\n",
        "print(load_model1_saved.predict(x_test) == model1.predict(x_test))"
      ],
      "execution_count": 165,
      "outputs": [
        {
          "output_type": "stream",
          "name": "stdout",
          "text": [
            "Model: \"sequential_59\"\n",
            "_________________________________________________________________\n",
            " Layer (type)                Output Shape              Param #   \n",
            "=================================================================\n",
            " dense_162 (Dense)           (None, 1)                 2         \n",
            "                                                                 \n",
            "=================================================================\n",
            "Total params: 2\n",
            "Trainable params: 2\n",
            "Non-trainable params: 0\n",
            "_________________________________________________________________\n",
            "Model: \"sequential_59\"\n",
            "_________________________________________________________________\n",
            " Layer (type)                Output Shape              Param #   \n",
            "=================================================================\n",
            " dense_162 (Dense)           (None, 1)                 2         \n",
            "                                                                 \n",
            "=================================================================\n",
            "Total params: 2\n",
            "Trainable params: 2\n",
            "Non-trainable params: 0\n",
            "_________________________________________________________________\n",
            "[[ True]\n",
            " [ True]\n",
            " [ True]\n",
            " [ True]\n",
            " [ True]\n",
            " [ True]\n",
            " [ True]\n",
            " [ True]\n",
            " [ True]\n",
            " [ True]]\n",
            "[[ True]\n",
            " [ True]\n",
            " [ True]\n",
            " [ True]\n",
            " [ True]\n",
            " [ True]\n",
            " [ True]\n",
            " [ True]\n",
            " [ True]\n",
            " [ True]]\n",
            "[[ True]\n",
            " [ True]\n",
            " [ True]\n",
            " [ True]\n",
            " [ True]\n",
            " [ True]\n",
            " [ True]\n",
            " [ True]\n",
            " [ True]\n",
            " [ True]]\n"
          ]
        }
      ]
    },
    {
      "cell_type": "code",
      "metadata": {
        "id": "Vs9xgozgb8fv"
      },
      "source": [
        ""
      ],
      "execution_count": null,
      "outputs": []
    }
  ]
}