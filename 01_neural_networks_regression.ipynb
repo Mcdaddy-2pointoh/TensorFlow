{
  "nbformat": 4,
  "nbformat_minor": 0,
  "metadata": {
    "colab": {
      "name": "01_neural_networks_regression.ipynb",
      "provenance": [],
      "collapsed_sections": []
    },
    "kernelspec": {
      "name": "python3",
      "display_name": "Python 3"
    },
    "language_info": {
      "name": "python"
    }
  },
  "cells": [
    {
      "cell_type": "markdown",
      "metadata": {
        "id": "UeOrkqO-FDuV"
      },
      "source": [
        "#✅✅✅✅ START OF REGRESSION ON NEURAL NETWORKS BASICS ✅✅✅✅\n",
        "\n",
        "Regression: Predicting numerical variable based on other related properties / numerical values\n",
        "\n",
        "\n",
        "\n",
        "\n"
      ]
    },
    {
      "cell_type": "code",
      "metadata": {
        "id": "WGjSH5KDFiJA",
        "colab": {
          "base_uri": "https://localhost:8080/"
        },
        "outputId": "3ec485e4-df7e-4239-c92a-ab41f21f29eb"
      },
      "source": [
        "import tensorflow as tf\n",
        "print(tf.__version__)\n"
      ],
      "execution_count": null,
      "outputs": [
        {
          "output_type": "stream",
          "name": "stdout",
          "text": [
            "2.7.0\n"
          ]
        }
      ]
    },
    {
      "cell_type": "code",
      "metadata": {
        "colab": {
          "base_uri": "https://localhost:8080/",
          "height": 286
        },
        "id": "pkWDKrzT4tr9",
        "outputId": "ff7ed8de-2f02-4086-f837-340e4b886e90"
      },
      "source": [
        "# Create Data to view and fit\n",
        "import numpy as np\n",
        "import matplotlib.pyplot as plt\n",
        "\n",
        "# Create features also represented on the X axis\n",
        "x = np.array([-5,-3,-1, 1, 3,5,7,9])\n",
        "\n",
        "# Create labels \n",
        "y = np.array([3,6,9,12,15,18,21,24])\n",
        "\n",
        "# Data Visualization\n",
        "plt.scatter(x,y)\n",
        "\n"
      ],
      "execution_count": null,
      "outputs": [
        {
          "output_type": "execute_result",
          "data": {
            "text/plain": [
              "<matplotlib.collections.PathCollection at 0x7f25315f5290>"
            ]
          },
          "metadata": {},
          "execution_count": 2
        },
        {
          "output_type": "display_data",
          "data": {
            "image/png": "[encoded data removed]",
            "text/plain": [
              "<Figure size 432x288 with 1 Axes>"
            ]
          },
          "metadata": {
            "needs_background": "light"
          }
        }
      ]
    },
    {
      "cell_type": "code",
      "metadata": {
        "colab": {
          "base_uri": "https://localhost:8080/"
        },
        "id": "9by7GmBS5vUW",
        "outputId": "e1b50e30-3fc1-4dd5-e706-e98cff8a5a6e"
      },
      "source": [
        "2*(y) == 3*(x)+21 # Line equation"
      ],
      "execution_count": null,
      "outputs": [
        {
          "output_type": "execute_result",
          "data": {
            "text/plain": [
              "array([ True,  True,  True,  True,  True,  True,  True,  True])"
            ]
          },
          "metadata": {},
          "execution_count": 3
        }
      ]
    },
    {
      "cell_type": "markdown",
      "metadata": {
        "id": "CpHQQRkC7tyU"
      },
      "source": [
        "### ⚫ Input and Output shapes\n"
      ]
    },
    {
      "cell_type": "code",
      "metadata": {
        "colab": {
          "base_uri": "https://localhost:8080/"
        },
        "id": "AYGE9_T074Tz",
        "outputId": "945d4ce0-5fe3-47c7-a6da-71b3bd2b2dcf"
      },
      "source": [
        "x = tf.constant(x)\n",
        "y = tf.constant(y)\n",
        "x , y # Should be an empty list as Scalar predicts a Scalar hence and scalars are dimensionless "
      ],
      "execution_count": null,
      "outputs": [
        {
          "output_type": "execute_result",
          "data": {
            "text/plain": [
              "(<tf.Tensor: shape=(8,), dtype=int64, numpy=array([-5, -3, -1,  1,  3,  5,  7,  9])>,\n",
              " <tf.Tensor: shape=(8,), dtype=int64, numpy=array([ 3,  6,  9, 12, 15, 18, 21, 24])>)"
            ]
          },
          "metadata": {},
          "execution_count": 4
        }
      ]
    },
    {
      "cell_type": "markdown",
      "metadata": {
        "id": "I5vJEbbx9gxf"
      },
      "source": [
        "### 🔴 Steps in Modelling with tensorFlow\n",
        "\n",
        "**1. Model Creation:**\n",
        "\n",
        "      a. Define Input layers\n",
        "\n",
        "      b. Define Output layers\n",
        "\n",
        "      c. Define Hidden layers of DL model\n",
        "\n",
        "**2. Compiling a model:**\n",
        "\n",
        "      a. Define Loss function (A function which tels the model how wrong it was)\n",
        "\n",
        "      b. Optimizer (Tells our model how to improve its learning patters)\n",
        "\n",
        "      c. Evaluation Metrics (what can we use to interpret the performance of our model). \n",
        "\n",
        "**3. Fitting a model:**\n",
        "\n",
        "      a. Letting the model try to find patterns between X & Y (features and labels)."
      ]
    },
    {
      "cell_type": "code",
      "metadata": {
        "colab": {
          "base_uri": "https://localhost:8080/"
        },
        "id": "RmwqYLTE9p7y",
        "outputId": "1c185135-0993-407d-8cdc-da293881b004"
      },
      "source": [
        "# Set random seed\n",
        "tf.random.set_seed(42)\n",
        "\n",
        "A = x[..., tf.newaxis]\n",
        "B = y[..., tf.newaxis]\n",
        "# Creating a model \n",
        "  # Sequential needs input of dimension >= 2 i.e. x.ndim >= 2\n",
        "\n",
        "model = tf.keras.Sequential()\n",
        "model.add(tf.keras.layers.Dense(1))\n",
        "\n",
        "#Alternatively\n",
        "\n",
        "'''\n",
        "model = tf.keras.Sequential([\n",
        "  tf.keras.layers.Dense(1)\n",
        "])\n",
        "'''\n",
        "\n",
        "# Compile model\n",
        "model.compile(loss=tf.keras.losses.mae, optimizer=tf.keras.optimizers.SGD(), metrics=['mae']) \n",
        "  # MAE => Mean Absolute Error\n",
        "  # SGD => Stochastic Gradient Descent\n",
        "\n",
        "# Fitting the model\n",
        "model.fit(A,B, epochs=5)\n",
        "\n"
      ],
      "execution_count": null,
      "outputs": [
        {
          "output_type": "stream",
          "name": "stdout",
          "text": [
            "Epoch 1/5\n",
            "1/1 [==============================] - 1s 729ms/step - loss: 12.3599 - mae: 12.3599\n",
            "Epoch 2/5\n",
            "1/1 [==============================] - 0s 8ms/step - loss: 12.3099 - mae: 12.3099\n",
            "Epoch 3/5\n",
            "1/1 [==============================] - 0s 6ms/step - loss: 12.2599 - mae: 12.2599\n",
            "Epoch 4/5\n",
            "1/1 [==============================] - 0s 5ms/step - loss: 12.2099 - mae: 12.2099\n",
            "Epoch 5/5\n",
            "1/1 [==============================] - 0s 4ms/step - loss: 12.1599 - mae: 12.1599\n"
          ]
        },
        {
          "output_type": "execute_result",
          "data": {
            "text/plain": [
              "<keras.callbacks.History at 0x7f252cfc9bd0>"
            ]
          },
          "metadata": {},
          "execution_count": 5
        }
      ]
    },
    {
      "cell_type": "code",
      "metadata": {
        "colab": {
          "base_uri": "https://localhost:8080/"
        },
        "id": "bweS6WEENK5n",
        "outputId": "c74d0193-cd21-4768-8542-020a7e2381eb"
      },
      "source": [
        "# Try prdicting\n",
        "y_pred = model.predict([[17]])\n",
        "y_pred"
      ],
      "execution_count": null,
      "outputs": [
        {
          "output_type": "execute_result",
          "data": {
            "text/plain": [
              "array([[11.441017]], dtype=float32)"
            ]
          },
          "metadata": {},
          "execution_count": 6
        }
      ]
    },
    {
      "cell_type": "markdown",
      "metadata": {
        "id": "t7mFNRf7S6ZK"
      },
      "source": [
        "### 🔴 Try Improving model\n",
        "\n",
        "1. **Altering the steps to create the model** - Add layes and increase the number of hidden layers, Change activation function.\n",
        "\n",
        "\n",
        "2. **Compiling a model** - Change the optimization function or the learning rate of the optimization function.\n",
        "\n",
        "\n",
        "3. **Fitting a model** - Give more data and increase epochs. Do not overfit the value, in this case mse will go down but unseen value will be predicted incorrectly."
      ]
    },
    {
      "cell_type": "code",
      "metadata": {
        "colab": {
          "base_uri": "https://localhost:8080/"
        },
        "id": "ElaDe5QwT4vU",
        "outputId": "5c7c316b-25d2-441c-8c6d-cf096f1b36fb"
      },
      "source": [
        "# 1. Create a model\n",
        "\n",
        "model = tf.keras.Sequential([\n",
        "    tf.keras.layers.Dense(100, activation='relu'),\n",
        "    tf.keras.layers.Dense(100, activation='relu'),\n",
        "    tf.keras.layers.Dense(100, activation='relu'),\n",
        "    tf.keras.layers.Dense(1)                               \n",
        "])\n",
        "\n",
        "# 2. Compile the model\n",
        "\n",
        "model.compile(loss=tf.keras.losses.mse, \n",
        "optimizer=tf.keras.optimizers.SGD(learning_rate=0.0028)\n",
        ", metrics=['mse'])\n",
        "\n",
        "# 3. Fit the model\n",
        "\n",
        "model.fit(A, B, epochs=150)\n",
        "\n",
        "print(\"Done\")"
      ],
      "execution_count": null,
      "outputs": [
        {
          "output_type": "stream",
          "name": "stdout",
          "text": [
            "Epoch 1/150\n",
            "1/1 [==============================] - 0s 401ms/step - loss: 247.7501 - mse: 247.7501\n",
            "Epoch 2/150\n",
            "1/1 [==============================] - 0s 7ms/step - loss: 193.5607 - mse: 193.5607\n",
            "Epoch 3/150\n",
            "1/1 [==============================] - 0s 6ms/step - loss: 142.1608 - mse: 142.1608\n",
            "Epoch 4/150\n",
            "1/1 [==============================] - 0s 4ms/step - loss: 50.4637 - mse: 50.4637\n",
            "Epoch 5/150\n",
            "1/1 [==============================] - 0s 4ms/step - loss: 44.0714 - mse: 44.0714\n",
            "Epoch 6/150\n",
            "1/1 [==============================] - 0s 9ms/step - loss: 82.5369 - mse: 82.5369\n",
            "Epoch 7/150\n",
            "1/1 [==============================] - 0s 5ms/step - loss: 26.3137 - mse: 26.3137\n",
            "Epoch 8/150\n",
            "1/1 [==============================] - 0s 8ms/step - loss: 30.6234 - mse: 30.6234\n",
            "Epoch 9/150\n",
            "1/1 [==============================] - 0s 5ms/step - loss: 33.7270 - mse: 33.7270\n",
            "Epoch 10/150\n",
            "1/1 [==============================] - 0s 8ms/step - loss: 57.1778 - mse: 57.1778\n",
            "Epoch 11/150\n",
            "1/1 [==============================] - 0s 5ms/step - loss: 31.4092 - mse: 31.4092\n",
            "Epoch 12/150\n",
            "1/1 [==============================] - 0s 6ms/step - loss: 52.3786 - mse: 52.3786\n",
            "Epoch 13/150\n",
            "1/1 [==============================] - 0s 8ms/step - loss: 30.5261 - mse: 30.5261\n",
            "Epoch 14/150\n",
            "1/1 [==============================] - 0s 5ms/step - loss: 51.5200 - mse: 51.5200\n",
            "Epoch 15/150\n",
            "1/1 [==============================] - 0s 9ms/step - loss: 28.3614 - mse: 28.3614\n",
            "Epoch 16/150\n",
            "1/1 [==============================] - 0s 5ms/step - loss: 46.6194 - mse: 46.6194\n",
            "Epoch 17/150\n",
            "1/1 [==============================] - 0s 5ms/step - loss: 28.0267 - mse: 28.0267\n",
            "Epoch 18/150\n",
            "1/1 [==============================] - 0s 9ms/step - loss: 46.7954 - mse: 46.7954\n",
            "Epoch 19/150\n",
            "1/1 [==============================] - 0s 13ms/step - loss: 26.0348 - mse: 26.0348\n",
            "Epoch 20/150\n",
            "1/1 [==============================] - 0s 8ms/step - loss: 42.0998 - mse: 42.0998\n",
            "Epoch 21/150\n",
            "1/1 [==============================] - 0s 7ms/step - loss: 25.8389 - mse: 25.8389\n",
            "Epoch 22/150\n",
            "1/1 [==============================] - 0s 7ms/step - loss: 42.3928 - mse: 42.3928\n",
            "Epoch 23/150\n",
            "1/1 [==============================] - 0s 7ms/step - loss: 24.1864 - mse: 24.1864\n",
            "Epoch 24/150\n",
            "1/1 [==============================] - 0s 7ms/step - loss: 38.6057 - mse: 38.6057\n",
            "Epoch 25/150\n",
            "1/1 [==============================] - 0s 7ms/step - loss: 23.8090 - mse: 23.8090\n",
            "Epoch 26/150\n",
            "1/1 [==============================] - 0s 7ms/step - loss: 38.2878 - mse: 38.2878\n",
            "Epoch 27/150\n",
            "1/1 [==============================] - 0s 8ms/step - loss: 22.5548 - mse: 22.5548\n",
            "Epoch 28/150\n",
            "1/1 [==============================] - 0s 6ms/step - loss: 35.6080 - mse: 35.6080\n",
            "Epoch 29/150\n",
            "1/1 [==============================] - 0s 8ms/step - loss: 21.9333 - mse: 21.9333\n",
            "Epoch 30/150\n",
            "1/1 [==============================] - 0s 8ms/step - loss: 34.6081 - mse: 34.6081\n",
            "Epoch 31/150\n",
            "1/1 [==============================] - 0s 8ms/step - loss: 20.9734 - mse: 20.9734\n",
            "Epoch 32/150\n",
            "1/1 [==============================] - 0s 7ms/step - loss: 32.7346 - mse: 32.7346\n",
            "Epoch 33/150\n",
            "1/1 [==============================] - 0s 7ms/step - loss: 20.2259 - mse: 20.2259\n",
            "Epoch 34/150\n",
            "1/1 [==============================] - 0s 7ms/step - loss: 31.4237 - mse: 31.4237\n",
            "Epoch 35/150\n",
            "1/1 [==============================] - 0s 7ms/step - loss: 19.4133 - mse: 19.4133\n",
            "Epoch 36/150\n",
            "1/1 [==============================] - 0s 8ms/step - loss: 29.9485 - mse: 29.9485\n",
            "Epoch 37/150\n",
            "1/1 [==============================] - 0s 8ms/step - loss: 18.6457 - mse: 18.6457\n",
            "Epoch 38/150\n",
            "1/1 [==============================] - 0s 8ms/step - loss: 28.5923 - mse: 28.5923\n",
            "Epoch 39/150\n",
            "1/1 [==============================] - 0s 6ms/step - loss: 17.8728 - mse: 17.8728\n",
            "Epoch 40/150\n",
            "1/1 [==============================] - 0s 10ms/step - loss: 27.2669 - mse: 27.2669\n",
            "Epoch 41/150\n",
            "1/1 [==============================] - 0s 5ms/step - loss: 17.1274 - mse: 17.1274\n",
            "Epoch 42/150\n",
            "1/1 [==============================] - 0s 8ms/step - loss: 25.9959 - mse: 25.9959\n",
            "Epoch 43/150\n",
            "1/1 [==============================] - 0s 5ms/step - loss: 16.3847 - mse: 16.3847\n",
            "Epoch 44/150\n",
            "1/1 [==============================] - 0s 7ms/step - loss: 24.7441 - mse: 24.7441\n",
            "Epoch 45/150\n",
            "1/1 [==============================] - 0s 8ms/step - loss: 15.6631 - mse: 15.6631\n",
            "Epoch 46/150\n",
            "1/1 [==============================] - 0s 14ms/step - loss: 23.5363 - mse: 23.5363\n",
            "Epoch 47/150\n",
            "1/1 [==============================] - 0s 18ms/step - loss: 14.9551 - mse: 14.9551\n",
            "Epoch 48/150\n",
            "1/1 [==============================] - 0s 5ms/step - loss: 22.3755 - mse: 22.3755\n",
            "Epoch 49/150\n",
            "1/1 [==============================] - 0s 6ms/step - loss: 14.2301 - mse: 14.2301\n",
            "Epoch 50/150\n",
            "1/1 [==============================] - 0s 7ms/step - loss: 21.1872 - mse: 21.1872\n",
            "Epoch 51/150\n",
            "1/1 [==============================] - 0s 4ms/step - loss: 13.5512 - mse: 13.5512\n",
            "Epoch 52/150\n",
            "1/1 [==============================] - 0s 6ms/step - loss: 20.1344 - mse: 20.1344\n",
            "Epoch 53/150\n",
            "1/1 [==============================] - 0s 13ms/step - loss: 12.9676 - mse: 12.9676\n",
            "Epoch 54/150\n",
            "1/1 [==============================] - 0s 14ms/step - loss: 19.3559 - mse: 19.3559\n",
            "Epoch 55/150\n",
            "1/1 [==============================] - 0s 5ms/step - loss: 12.2521 - mse: 12.2521\n",
            "Epoch 56/150\n",
            "1/1 [==============================] - 0s 5ms/step - loss: 18.0788 - mse: 18.0788\n",
            "Epoch 57/150\n",
            "1/1 [==============================] - 0s 6ms/step - loss: 11.5892 - mse: 11.5892\n",
            "Epoch 58/150\n",
            "1/1 [==============================] - 0s 6ms/step - loss: 17.0660 - mse: 17.0660\n",
            "Epoch 59/150\n",
            "1/1 [==============================] - 0s 6ms/step - loss: 11.1346 - mse: 11.1346\n",
            "Epoch 60/150\n",
            "1/1 [==============================] - 0s 4ms/step - loss: 16.6319 - mse: 16.6319\n",
            "Epoch 61/150\n",
            "1/1 [==============================] - 0s 4ms/step - loss: 10.4239 - mse: 10.4239\n",
            "Epoch 62/150\n",
            "1/1 [==============================] - 0s 7ms/step - loss: 15.3409 - mse: 15.3409\n",
            "Epoch 63/150\n",
            "1/1 [==============================] - 0s 5ms/step - loss: 9.8874 - mse: 9.8874\n",
            "Epoch 64/150\n",
            "1/1 [==============================] - 0s 5ms/step - loss: 14.5742 - mse: 14.5742\n",
            "Epoch 65/150\n",
            "1/1 [==============================] - 0s 5ms/step - loss: 9.3676 - mse: 9.3676\n",
            "Epoch 66/150\n",
            "1/1 [==============================] - 0s 5ms/step - loss: 13.8828 - mse: 13.8828\n",
            "Epoch 67/150\n",
            "1/1 [==============================] - 0s 4ms/step - loss: 8.8229 - mse: 8.8229\n",
            "Epoch 68/150\n",
            "1/1 [==============================] - 0s 6ms/step - loss: 12.9770 - mse: 12.9770\n",
            "Epoch 69/150\n",
            "1/1 [==============================] - 0s 4ms/step - loss: 8.2718 - mse: 8.2718\n",
            "Epoch 70/150\n",
            "1/1 [==============================] - 0s 4ms/step - loss: 12.2119 - mse: 12.2119\n",
            "Epoch 71/150\n",
            "1/1 [==============================] - 0s 5ms/step - loss: 7.8180 - mse: 7.8180\n",
            "Epoch 72/150\n",
            "1/1 [==============================] - 0s 8ms/step - loss: 11.5739 - mse: 11.5739\n",
            "Epoch 73/150\n",
            "1/1 [==============================] - 0s 6ms/step - loss: 7.3096 - mse: 7.3096\n",
            "Epoch 74/150\n",
            "1/1 [==============================] - 0s 5ms/step - loss: 10.7091 - mse: 10.7091\n",
            "Epoch 75/150\n",
            "1/1 [==============================] - 0s 5ms/step - loss: 6.8509 - mse: 6.8509\n",
            "Epoch 76/150\n",
            "1/1 [==============================] - 0s 7ms/step - loss: 10.1315 - mse: 10.1315\n",
            "Epoch 77/150\n",
            "1/1 [==============================] - 0s 4ms/step - loss: 6.5240 - mse: 6.5240\n",
            "Epoch 78/150\n",
            "1/1 [==============================] - 0s 4ms/step - loss: 9.8871 - mse: 9.8871\n",
            "Epoch 79/150\n",
            "1/1 [==============================] - 0s 5ms/step - loss: 6.0860 - mse: 6.0860\n",
            "Epoch 80/150\n",
            "1/1 [==============================] - 0s 4ms/step - loss: 9.0338 - mse: 9.0338\n",
            "Epoch 81/150\n",
            "1/1 [==============================] - 0s 6ms/step - loss: 5.6620 - mse: 5.6620\n",
            "Epoch 82/150\n",
            "1/1 [==============================] - 0s 9ms/step - loss: 8.4369 - mse: 8.4369\n",
            "Epoch 83/150\n",
            "1/1 [==============================] - 0s 5ms/step - loss: 5.3149 - mse: 5.3149\n",
            "Epoch 84/150\n",
            "1/1 [==============================] - 0s 7ms/step - loss: 7.9984 - mse: 7.9984\n",
            "Epoch 85/150\n",
            "1/1 [==============================] - 0s 5ms/step - loss: 5.0093 - mse: 5.0093\n",
            "Epoch 86/150\n",
            "1/1 [==============================] - 0s 6ms/step - loss: 7.5658 - mse: 7.5658\n",
            "Epoch 87/150\n",
            "1/1 [==============================] - 0s 7ms/step - loss: 4.7811 - mse: 4.7811\n",
            "Epoch 88/150\n",
            "1/1 [==============================] - 0s 10ms/step - loss: 7.3478 - mse: 7.3478\n",
            "Epoch 89/150\n",
            "1/1 [==============================] - 0s 6ms/step - loss: 4.5279 - mse: 4.5279\n",
            "Epoch 90/150\n",
            "1/1 [==============================] - 0s 9ms/step - loss: 6.8868 - mse: 6.8868\n",
            "Epoch 91/150\n",
            "1/1 [==============================] - 0s 10ms/step - loss: 4.3082 - mse: 4.3082\n",
            "Epoch 92/150\n",
            "1/1 [==============================] - 0s 8ms/step - loss: 6.6289 - mse: 6.6289\n",
            "Epoch 93/150\n",
            "1/1 [==============================] - 0s 6ms/step - loss: 4.0938 - mse: 4.0938\n",
            "Epoch 94/150\n",
            "1/1 [==============================] - 0s 11ms/step - loss: 6.2708 - mse: 6.2708\n",
            "Epoch 95/150\n",
            "1/1 [==============================] - 0s 5ms/step - loss: 3.8732 - mse: 3.8732\n",
            "Epoch 96/150\n",
            "1/1 [==============================] - 0s 10ms/step - loss: 5.9401 - mse: 5.9401\n",
            "Epoch 97/150\n",
            "1/1 [==============================] - 0s 5ms/step - loss: 3.6552 - mse: 3.6552\n",
            "Epoch 98/150\n",
            "1/1 [==============================] - 0s 8ms/step - loss: 5.5768 - mse: 5.5768\n",
            "Epoch 99/150\n",
            "1/1 [==============================] - 0s 6ms/step - loss: 3.4536 - mse: 3.4536\n",
            "Epoch 100/150\n",
            "1/1 [==============================] - 0s 6ms/step - loss: 5.2604 - mse: 5.2604\n",
            "Epoch 101/150\n",
            "1/1 [==============================] - 0s 11ms/step - loss: 3.2870 - mse: 3.2870\n",
            "Epoch 102/150\n",
            "1/1 [==============================] - 0s 13ms/step - loss: 4.9804 - mse: 4.9804\n",
            "Epoch 103/150\n",
            "1/1 [==============================] - 0s 9ms/step - loss: 3.1265 - mse: 3.1265\n",
            "Epoch 104/150\n",
            "1/1 [==============================] - 0s 6ms/step - loss: 4.7126 - mse: 4.7126\n",
            "Epoch 105/150\n",
            "1/1 [==============================] - 0s 9ms/step - loss: 2.9776 - mse: 2.9776\n",
            "Epoch 106/150\n",
            "1/1 [==============================] - 0s 24ms/step - loss: 4.4754 - mse: 4.4754\n",
            "Epoch 107/150\n",
            "1/1 [==============================] - 0s 9ms/step - loss: 2.8398 - mse: 2.8398\n",
            "Epoch 108/150\n",
            "1/1 [==============================] - 0s 7ms/step - loss: 4.2325 - mse: 4.2325\n",
            "Epoch 109/150\n",
            "1/1 [==============================] - 0s 9ms/step - loss: 2.7046 - mse: 2.7046\n",
            "Epoch 110/150\n",
            "1/1 [==============================] - 0s 7ms/step - loss: 3.9973 - mse: 3.9973\n",
            "Epoch 111/150\n",
            "1/1 [==============================] - 0s 6ms/step - loss: 2.5734 - mse: 2.5734\n",
            "Epoch 112/150\n",
            "1/1 [==============================] - 0s 8ms/step - loss: 3.7763 - mse: 3.7763\n",
            "Epoch 113/150\n",
            "1/1 [==============================] - 0s 10ms/step - loss: 2.4490 - mse: 2.4490\n",
            "Epoch 114/150\n",
            "1/1 [==============================] - 0s 7ms/step - loss: 3.5579 - mse: 3.5579\n",
            "Epoch 115/150\n",
            "1/1 [==============================] - 0s 8ms/step - loss: 2.3290 - mse: 2.3290\n",
            "Epoch 116/150\n",
            "1/1 [==============================] - 0s 11ms/step - loss: 3.3593 - mse: 3.3593\n",
            "Epoch 117/150\n",
            "1/1 [==============================] - 0s 7ms/step - loss: 2.2158 - mse: 2.2158\n",
            "Epoch 118/150\n",
            "1/1 [==============================] - 0s 10ms/step - loss: 3.1630 - mse: 3.1630\n",
            "Epoch 119/150\n",
            "1/1 [==============================] - 0s 6ms/step - loss: 2.1065 - mse: 2.1065\n",
            "Epoch 120/150\n",
            "1/1 [==============================] - 0s 5ms/step - loss: 2.9923 - mse: 2.9923\n",
            "Epoch 121/150\n",
            "1/1 [==============================] - 0s 7ms/step - loss: 2.0091 - mse: 2.0091\n",
            "Epoch 122/150\n",
            "1/1 [==============================] - 0s 10ms/step - loss: 2.8226 - mse: 2.8226\n",
            "Epoch 123/150\n",
            "1/1 [==============================] - 0s 7ms/step - loss: 1.9114 - mse: 1.9114\n",
            "Epoch 124/150\n",
            "1/1 [==============================] - 0s 9ms/step - loss: 2.6668 - mse: 2.6668\n",
            "Epoch 125/150\n",
            "1/1 [==============================] - 0s 5ms/step - loss: 1.8214 - mse: 1.8214\n",
            "Epoch 126/150\n",
            "1/1 [==============================] - 0s 8ms/step - loss: 2.5261 - mse: 2.5261\n",
            "Epoch 127/150\n",
            "1/1 [==============================] - 0s 7ms/step - loss: 1.7369 - mse: 1.7369\n",
            "Epoch 128/150\n",
            "1/1 [==============================] - 0s 17ms/step - loss: 2.3809 - mse: 2.3809\n",
            "Epoch 129/150\n",
            "1/1 [==============================] - 0s 7ms/step - loss: 1.6522 - mse: 1.6522\n",
            "Epoch 130/150\n",
            "1/1 [==============================] - 0s 6ms/step - loss: 2.2477 - mse: 2.2477\n",
            "Epoch 131/150\n",
            "1/1 [==============================] - 0s 10ms/step - loss: 1.5732 - mse: 1.5732\n",
            "Epoch 132/150\n",
            "1/1 [==============================] - 0s 5ms/step - loss: 2.1233 - mse: 2.1233\n",
            "Epoch 133/150\n",
            "1/1 [==============================] - 0s 10ms/step - loss: 1.4977 - mse: 1.4977\n",
            "Epoch 134/150\n",
            "1/1 [==============================] - 0s 5ms/step - loss: 2.0075 - mse: 2.0075\n",
            "Epoch 135/150\n",
            "1/1 [==============================] - 0s 19ms/step - loss: 1.4261 - mse: 1.4261\n",
            "Epoch 136/150\n",
            "1/1 [==============================] - 0s 9ms/step - loss: 1.8941 - mse: 1.8941\n",
            "Epoch 137/150\n",
            "1/1 [==============================] - 0s 5ms/step - loss: 1.3579 - mse: 1.3579\n",
            "Epoch 138/150\n",
            "1/1 [==============================] - 0s 13ms/step - loss: 1.7934 - mse: 1.7934\n",
            "Epoch 139/150\n",
            "1/1 [==============================] - 0s 7ms/step - loss: 1.2952 - mse: 1.2952\n",
            "Epoch 140/150\n",
            "1/1 [==============================] - 0s 6ms/step - loss: 1.6954 - mse: 1.6954\n",
            "Epoch 141/150\n",
            "1/1 [==============================] - 0s 10ms/step - loss: 1.2349 - mse: 1.2349\n",
            "Epoch 142/150\n",
            "1/1 [==============================] - 0s 11ms/step - loss: 1.6095 - mse: 1.6095\n",
            "Epoch 143/150\n",
            "1/1 [==============================] - 0s 10ms/step - loss: 1.1794 - mse: 1.1794\n",
            "Epoch 144/150\n",
            "1/1 [==============================] - 0s 8ms/step - loss: 1.5231 - mse: 1.5231\n",
            "Epoch 145/150\n",
            "1/1 [==============================] - 0s 19ms/step - loss: 1.1240 - mse: 1.1240\n",
            "Epoch 146/150\n",
            "1/1 [==============================] - 0s 10ms/step - loss: 1.4416 - mse: 1.4416\n",
            "Epoch 147/150\n",
            "1/1 [==============================] - 0s 6ms/step - loss: 1.0708 - mse: 1.0708\n",
            "Epoch 148/150\n",
            "1/1 [==============================] - 0s 8ms/step - loss: 1.3647 - mse: 1.3647\n",
            "Epoch 149/150\n",
            "1/1 [==============================] - 0s 5ms/step - loss: 1.0210 - mse: 1.0210\n",
            "Epoch 150/150\n",
            "1/1 [==============================] - 0s 8ms/step - loss: 1.2947 - mse: 1.2947\n",
            "Done\n"
          ]
        }
      ]
    },
    {
      "cell_type": "code",
      "metadata": {
        "colab": {
          "base_uri": "https://localhost:8080/"
        },
        "id": "wsdRbwGHVPTd",
        "outputId": "17991194-3dd1-4f0e-fc7a-8f2f7d817821"
      },
      "source": [
        "model.predict([[17]])"
      ],
      "execution_count": null,
      "outputs": [
        {
          "output_type": "execute_result",
          "data": {
            "text/plain": [
              "array([[39.264656]], dtype=float32)"
            ]
          },
          "metadata": {},
          "execution_count": 8
        }
      ]
    },
    {
      "cell_type": "code",
      "metadata": {
        "colab": {
          "base_uri": "https://localhost:8080/"
        },
        "id": "xpN5r8YaISem",
        "outputId": "59f4819c-40f4-440a-a8ca-bdb2d2e8ac12"
      },
      "source": [
        "print(A)\n",
        "print(B)"
      ],
      "execution_count": null,
      "outputs": [
        {
          "output_type": "stream",
          "name": "stdout",
          "text": [
            "tf.Tensor(\n",
            "[[-5]\n",
            " [-3]\n",
            " [-1]\n",
            " [ 1]\n",
            " [ 3]\n",
            " [ 5]\n",
            " [ 7]\n",
            " [ 9]], shape=(8, 1), dtype=int64)\n",
            "tf.Tensor(\n",
            "[[ 3]\n",
            " [ 6]\n",
            " [ 9]\n",
            " [12]\n",
            " [15]\n",
            " [18]\n",
            " [21]\n",
            " [24]], shape=(8, 1), dtype=int64)\n"
          ]
        }
      ]
    },
    {
      "cell_type": "markdown",
      "metadata": {
        "id": "ZLHSAntmLPIp"
      },
      "source": [
        "### ⚫ Modelling analysis\n",
        "\n",
        "1. Create\n",
        "\n",
        "2. Compile\n",
        "\n",
        "3. Fit\n",
        "\n",
        "4. Tweak\n"
      ]
    },
    {
      "cell_type": "markdown",
      "metadata": {
        "id": "3Pj-iVA-MoYo"
      },
      "source": [
        "### 🔴 Model Evaluation\n",
        "\n",
        "Visualize the following:\n",
        "1. Data\n",
        "\n",
        "2. Model\n",
        "\n",
        "3. Training of the Model\n",
        "\n",
        "4. Predictions of the models."
      ]
    },
    {
      "cell_type": "code",
      "metadata": {
        "colab": {
          "base_uri": "https://localhost:8080/",
          "height": 286
        },
        "id": "2g7vvYihT0Ig",
        "outputId": "bc6a4c81-f49d-4dd1-a583-39f4ab512122"
      },
      "source": [
        "# Bigger model\n",
        "x = tf.range(-100, 100, 4)\n",
        "x = x[..., tf.newaxis]\n",
        "y = x + 20\n",
        "\n",
        "plt.scatter(x, y)"
      ],
      "execution_count": null,
      "outputs": [
        {
          "output_type": "execute_result",
          "data": {
            "text/plain": [
              "<matplotlib.collections.PathCollection at 0x7f253157bd50>"
            ]
          },
          "metadata": {},
          "execution_count": 10
        },
        {
          "output_type": "display_data",
          "data": {
            "image/png": "[encoded data removed]",
            "text/plain": [
              "<Figure size 432x288 with 1 Axes>"
            ]
          },
          "metadata": {
            "needs_background": "light"
          }
        }
      ]
    },
    {
      "cell_type": "markdown",
      "metadata": {
        "id": "-iL_FVUHVeyu"
      },
      "source": [
        "### ⚫ The three set principle\n",
        "\n",
        "1. Training Set: Model learns from this data, (70-80% of all available data)\n",
        "\n",
        "2. Validation Set: Model get tuned on this data, (10-15% of all available data)\n",
        "\n",
        "3. Test Set: Evaluation of Model is done on this set, (10-15% of all available data)"
      ]
    },
    {
      "cell_type": "code",
      "metadata": {
        "colab": {
          "base_uri": "https://localhost:8080/",
          "height": 353
        },
        "id": "0uMr8ghcWHqt",
        "outputId": "520067eb-b703-44b3-9230-70f5cc82c45f"
      },
      "source": [
        "# Training data set\n",
        "x_train = x[:40]\n",
        "y_train = y[:40] \n",
        "\n",
        "# Validation set\n",
        "# x_validate = x[40:45]\n",
        "# y_validate = y[40:45]\n",
        "\n",
        "# Test set \n",
        "x_test = x[40:]\n",
        "y_test = y[40:]\n",
        "\n",
        "# Visualizing this\n",
        "plt.figure(figsize=(7.5,5.25))\n",
        "\n",
        "# Plotting the scatter graphs\n",
        "plt.scatter(x_train, y_train, c='r', label='Train')\n",
        "plt.scatter(x_test, y_test, c='b', label='Test')\n",
        "\n",
        "# Legend\n",
        "plt.legend()"
      ],
      "execution_count": null,
      "outputs": [
        {
          "output_type": "execute_result",
          "data": {
            "text/plain": [
              "<matplotlib.legend.Legend at 0x7f252c8286d0>"
            ]
          },
          "metadata": {},
          "execution_count": 11
        },
        {
          "output_type": "display_data",
          "data": {
            "image/png": "[encoded data removed]",
            "text/plain": [
              "<Figure size 540x378 with 1 Axes>"
            ]
          },
          "metadata": {
            "needs_background": "light"
          }
        }
      ]
    },
    {
      "cell_type": "code",
      "metadata": {
        "colab": {
          "base_uri": "https://localhost:8080/"
        },
        "id": "dhTyZ7F6Xunw",
        "outputId": "340e8605-ba79-4023-9db9-c9a8ce08a762"
      },
      "source": [
        "# Model Creation\n",
        "model = tf.keras.Sequential([\n",
        "    tf.keras.layers.Dense(100, activation='relu'),\n",
        "    tf.keras.layers.Dense(100, activation='relu'),\n",
        "    tf.keras.layers.Dense(100, activation='relu'),\n",
        "    tf.keras.layers.Dense(1)\n",
        "])\n",
        "\n",
        "\n",
        "# Model compile\n",
        "model.compile(\n",
        "    loss=tf.losses.mae,\n",
        "    optimizer=tf.optimizers.SGD(learning_rate=0.005),\n",
        "    metrics=['mae']\n",
        ")\n",
        "\n",
        "# Model fitting\n",
        "model.fit(\n",
        "    x, y, epochs=100\n",
        ")"
      ],
      "execution_count": null,
      "outputs": [
        {
          "output_type": "stream",
          "name": "stdout",
          "text": [
            "Epoch 1/100\n",
            "2/2 [==============================] - 0s 8ms/step - loss: 48.4418 - mae: 48.4418\n",
            "Epoch 2/100\n",
            "2/2 [==============================] - 0s 3ms/step - loss: 33.5579 - mae: 33.5579\n",
            "Epoch 3/100\n",
            "2/2 [==============================] - 0s 13ms/step - loss: 11.3567 - mae: 11.3567\n",
            "Epoch 4/100\n",
            "2/2 [==============================] - 0s 5ms/step - loss: 15.4610 - mae: 15.4610\n",
            "Epoch 5/100\n",
            "2/2 [==============================] - 0s 7ms/step - loss: 14.7275 - mae: 14.7275\n",
            "Epoch 6/100\n",
            "2/2 [==============================] - 0s 6ms/step - loss: 10.3184 - mae: 10.3184\n",
            "Epoch 7/100\n",
            "2/2 [==============================] - 0s 5ms/step - loss: 15.3719 - mae: 15.3719\n",
            "Epoch 8/100\n",
            "2/2 [==============================] - 0s 5ms/step - loss: 21.2450 - mae: 21.2450\n",
            "Epoch 9/100\n",
            "2/2 [==============================] - 0s 5ms/step - loss: 33.9401 - mae: 33.9401\n",
            "Epoch 10/100\n",
            "2/2 [==============================] - 0s 5ms/step - loss: 15.2486 - mae: 15.2486\n",
            "Epoch 11/100\n",
            "2/2 [==============================] - 0s 7ms/step - loss: 16.0330 - mae: 16.0330\n",
            "Epoch 12/100\n",
            "2/2 [==============================] - 0s 6ms/step - loss: 15.2934 - mae: 15.2934\n",
            "Epoch 13/100\n",
            "2/2 [==============================] - 0s 5ms/step - loss: 17.8857 - mae: 17.8857\n",
            "Epoch 14/100\n",
            "2/2 [==============================] - 0s 7ms/step - loss: 22.5933 - mae: 22.5933\n",
            "Epoch 15/100\n",
            "2/2 [==============================] - 0s 4ms/step - loss: 18.6294 - mae: 18.6294\n",
            "Epoch 16/100\n",
            "2/2 [==============================] - 0s 6ms/step - loss: 13.4986 - mae: 13.4986\n",
            "Epoch 17/100\n",
            "2/2 [==============================] - 0s 9ms/step - loss: 15.7155 - mae: 15.7155\n",
            "Epoch 18/100\n",
            "2/2 [==============================] - 0s 7ms/step - loss: 14.2819 - mae: 14.2819\n",
            "Epoch 19/100\n",
            "2/2 [==============================] - 0s 6ms/step - loss: 15.2329 - mae: 15.2329\n",
            "Epoch 20/100\n",
            "2/2 [==============================] - 0s 7ms/step - loss: 10.6938 - mae: 10.6938\n",
            "Epoch 21/100\n",
            "2/2 [==============================] - 0s 4ms/step - loss: 17.2026 - mae: 17.2026\n",
            "Epoch 22/100\n",
            "2/2 [==============================] - 0s 5ms/step - loss: 23.2291 - mae: 23.2291\n",
            "Epoch 23/100\n",
            "2/2 [==============================] - 0s 13ms/step - loss: 10.6956 - mae: 10.6956\n",
            "Epoch 24/100\n",
            "2/2 [==============================] - 0s 9ms/step - loss: 13.3057 - mae: 13.3057\n",
            "Epoch 25/100\n",
            "2/2 [==============================] - 0s 8ms/step - loss: 15.0903 - mae: 15.0903\n",
            "Epoch 26/100\n",
            "2/2 [==============================] - 0s 7ms/step - loss: 14.0767 - mae: 14.0767\n",
            "Epoch 27/100\n",
            "2/2 [==============================] - 0s 10ms/step - loss: 16.5526 - mae: 16.5526\n",
            "Epoch 28/100\n",
            "2/2 [==============================] - 0s 10ms/step - loss: 14.6095 - mae: 14.6095\n",
            "Epoch 29/100\n",
            "2/2 [==============================] - 0s 6ms/step - loss: 18.3497 - mae: 18.3497\n",
            "Epoch 30/100\n",
            "2/2 [==============================] - 0s 10ms/step - loss: 8.4460 - mae: 8.4460\n",
            "Epoch 31/100\n",
            "2/2 [==============================] - 0s 9ms/step - loss: 15.5202 - mae: 15.5202\n",
            "Epoch 32/100\n",
            "2/2 [==============================] - 0s 10ms/step - loss: 16.8813 - mae: 16.8813\n",
            "Epoch 33/100\n",
            "2/2 [==============================] - 0s 6ms/step - loss: 14.3015 - mae: 14.3015\n",
            "Epoch 34/100\n",
            "2/2 [==============================] - 0s 5ms/step - loss: 13.4013 - mae: 13.4013\n",
            "Epoch 35/100\n",
            "2/2 [==============================] - 0s 10ms/step - loss: 9.6234 - mae: 9.6234\n",
            "Epoch 36/100\n",
            "2/2 [==============================] - 0s 9ms/step - loss: 16.8983 - mae: 16.8983\n",
            "Epoch 37/100\n",
            "2/2 [==============================] - 0s 5ms/step - loss: 13.7203 - mae: 13.7203\n",
            "Epoch 38/100\n",
            "2/2 [==============================] - 0s 7ms/step - loss: 12.8776 - mae: 12.8776\n",
            "Epoch 39/100\n",
            "2/2 [==============================] - 0s 8ms/step - loss: 17.1715 - mae: 17.1715\n",
            "Epoch 40/100\n",
            "2/2 [==============================] - 0s 5ms/step - loss: 11.6736 - mae: 11.6736\n",
            "Epoch 41/100\n",
            "2/2 [==============================] - 0s 5ms/step - loss: 12.0572 - mae: 12.0572\n",
            "Epoch 42/100\n",
            "2/2 [==============================] - 0s 5ms/step - loss: 16.3879 - mae: 16.3879\n",
            "Epoch 43/100\n",
            "2/2 [==============================] - 0s 10ms/step - loss: 13.8452 - mae: 13.8452\n",
            "Epoch 44/100\n",
            "2/2 [==============================] - 0s 8ms/step - loss: 8.2351 - mae: 8.2351\n",
            "Epoch 45/100\n",
            "2/2 [==============================] - 0s 6ms/step - loss: 15.3438 - mae: 15.3438\n",
            "Epoch 46/100\n",
            "2/2 [==============================] - 0s 6ms/step - loss: 14.9713 - mae: 14.9713\n",
            "Epoch 47/100\n",
            "2/2 [==============================] - 0s 8ms/step - loss: 14.6516 - mae: 14.6516\n",
            "Epoch 48/100\n",
            "2/2 [==============================] - 0s 6ms/step - loss: 13.3742 - mae: 13.3742\n",
            "Epoch 49/100\n",
            "2/2 [==============================] - 0s 5ms/step - loss: 11.1478 - mae: 11.1478\n",
            "Epoch 50/100\n",
            "2/2 [==============================] - 0s 9ms/step - loss: 18.7794 - mae: 18.7794\n",
            "Epoch 51/100\n",
            "2/2 [==============================] - 0s 16ms/step - loss: 14.4521 - mae: 14.4521\n",
            "Epoch 52/100\n",
            "2/2 [==============================] - 0s 4ms/step - loss: 19.1030 - mae: 19.1030\n",
            "Epoch 53/100\n",
            "2/2 [==============================] - 0s 9ms/step - loss: 10.5306 - mae: 10.5306\n",
            "Epoch 54/100\n",
            "2/2 [==============================] - 0s 6ms/step - loss: 20.1079 - mae: 20.1079\n",
            "Epoch 55/100\n",
            "2/2 [==============================] - 0s 7ms/step - loss: 14.1607 - mae: 14.1607\n",
            "Epoch 56/100\n",
            "2/2 [==============================] - 0s 6ms/step - loss: 11.8202 - mae: 11.8202\n",
            "Epoch 57/100\n",
            "2/2 [==============================] - 0s 7ms/step - loss: 15.7612 - mae: 15.7612\n",
            "Epoch 58/100\n",
            "2/2 [==============================] - 0s 9ms/step - loss: 12.5506 - mae: 12.5506\n",
            "Epoch 59/100\n",
            "2/2 [==============================] - 0s 10ms/step - loss: 17.4326 - mae: 17.4326\n",
            "Epoch 60/100\n",
            "2/2 [==============================] - 0s 11ms/step - loss: 14.1391 - mae: 14.1391\n",
            "Epoch 61/100\n",
            "2/2 [==============================] - 0s 6ms/step - loss: 16.2776 - mae: 16.2776\n",
            "Epoch 62/100\n",
            "2/2 [==============================] - 0s 7ms/step - loss: 13.7698 - mae: 13.7698\n",
            "Epoch 63/100\n",
            "2/2 [==============================] - 0s 7ms/step - loss: 13.1046 - mae: 13.1046\n",
            "Epoch 64/100\n",
            "2/2 [==============================] - 0s 9ms/step - loss: 14.0925 - mae: 14.0925\n",
            "Epoch 65/100\n",
            "2/2 [==============================] - 0s 7ms/step - loss: 15.1082 - mae: 15.1082\n",
            "Epoch 66/100\n",
            "2/2 [==============================] - 0s 7ms/step - loss: 14.9752 - mae: 14.9752\n",
            "Epoch 67/100\n",
            "2/2 [==============================] - 0s 7ms/step - loss: 13.4683 - mae: 13.4683\n",
            "Epoch 68/100\n",
            "2/2 [==============================] - 0s 10ms/step - loss: 13.3155 - mae: 13.3155\n",
            "Epoch 69/100\n",
            "2/2 [==============================] - 0s 10ms/step - loss: 15.1004 - mae: 15.1004\n",
            "Epoch 70/100\n",
            "2/2 [==============================] - 0s 4ms/step - loss: 22.6964 - mae: 22.6964\n",
            "Epoch 71/100\n",
            "2/2 [==============================] - 0s 5ms/step - loss: 17.6036 - mae: 17.6036\n",
            "Epoch 72/100\n",
            "2/2 [==============================] - 0s 5ms/step - loss: 12.5260 - mae: 12.5260\n",
            "Epoch 73/100\n",
            "2/2 [==============================] - 0s 4ms/step - loss: 15.6347 - mae: 15.6347\n",
            "Epoch 74/100\n",
            "2/2 [==============================] - 0s 4ms/step - loss: 14.2719 - mae: 14.2719\n",
            "Epoch 75/100\n",
            "2/2 [==============================] - 0s 8ms/step - loss: 20.4071 - mae: 20.4071\n",
            "Epoch 76/100\n",
            "2/2 [==============================] - 0s 6ms/step - loss: 18.1472 - mae: 18.1472\n",
            "Epoch 77/100\n",
            "2/2 [==============================] - 0s 7ms/step - loss: 12.0364 - mae: 12.0364\n",
            "Epoch 78/100\n",
            "2/2 [==============================] - 0s 4ms/step - loss: 15.2527 - mae: 15.2527\n",
            "Epoch 79/100\n",
            "2/2 [==============================] - 0s 4ms/step - loss: 13.0282 - mae: 13.0282\n",
            "Epoch 80/100\n",
            "2/2 [==============================] - 0s 5ms/step - loss: 15.9923 - mae: 15.9923\n",
            "Epoch 81/100\n",
            "2/2 [==============================] - 0s 5ms/step - loss: 14.3186 - mae: 14.3186\n",
            "Epoch 82/100\n",
            "2/2 [==============================] - 0s 5ms/step - loss: 13.7055 - mae: 13.7055\n",
            "Epoch 83/100\n",
            "2/2 [==============================] - 0s 6ms/step - loss: 10.2072 - mae: 10.2072\n",
            "Epoch 84/100\n",
            "2/2 [==============================] - 0s 5ms/step - loss: 15.0406 - mae: 15.0406\n",
            "Epoch 85/100\n",
            "2/2 [==============================] - 0s 7ms/step - loss: 14.0612 - mae: 14.0612\n",
            "Epoch 86/100\n",
            "2/2 [==============================] - 0s 5ms/step - loss: 12.5386 - mae: 12.5386\n",
            "Epoch 87/100\n",
            "2/2 [==============================] - 0s 5ms/step - loss: 13.9291 - mae: 13.9291\n",
            "Epoch 88/100\n",
            "2/2 [==============================] - 0s 4ms/step - loss: 15.3590 - mae: 15.3590\n",
            "Epoch 89/100\n",
            "2/2 [==============================] - 0s 6ms/step - loss: 13.8151 - mae: 13.8151\n",
            "Epoch 90/100\n",
            "2/2 [==============================] - 0s 5ms/step - loss: 19.4248 - mae: 19.4248\n",
            "Epoch 91/100\n",
            "2/2 [==============================] - 0s 5ms/step - loss: 17.2596 - mae: 17.2596\n",
            "Epoch 92/100\n",
            "2/2 [==============================] - 0s 5ms/step - loss: 14.2478 - mae: 14.2478\n",
            "Epoch 93/100\n",
            "2/2 [==============================] - 0s 6ms/step - loss: 16.4114 - mae: 16.4114\n",
            "Epoch 94/100\n",
            "2/2 [==============================] - 0s 7ms/step - loss: 13.9627 - mae: 13.9627\n",
            "Epoch 95/100\n",
            "2/2 [==============================] - 0s 7ms/step - loss: 13.6672 - mae: 13.6672\n",
            "Epoch 96/100\n",
            "2/2 [==============================] - 0s 8ms/step - loss: 13.5658 - mae: 13.5658\n",
            "Epoch 97/100\n",
            "2/2 [==============================] - 0s 6ms/step - loss: 9.4184 - mae: 9.4184\n",
            "Epoch 98/100\n",
            "2/2 [==============================] - 0s 6ms/step - loss: 14.1092 - mae: 14.1092\n",
            "Epoch 99/100\n",
            "2/2 [==============================] - 0s 6ms/step - loss: 13.7225 - mae: 13.7225\n",
            "Epoch 100/100\n",
            "2/2 [==============================] - 0s 5ms/step - loss: 14.0650 - mae: 14.0650\n"
          ]
        },
        {
          "output_type": "execute_result",
          "data": {
            "text/plain": [
              "<keras.callbacks.History at 0x7f252c7a9350>"
            ]
          },
          "metadata": {},
          "execution_count": 12
        }
      ]
    },
    {
      "cell_type": "code",
      "metadata": {
        "colab": {
          "base_uri": "https://localhost:8080/"
        },
        "id": "5W5JzN-jbcSH",
        "outputId": "4ef7be07-17fb-4d8e-ba6e-19b16bc59867"
      },
      "source": [
        "print(x_test.numpy,model.predict([x_test]))\n",
        "model.summary()"
      ],
      "execution_count": null,
      "outputs": [
        {
          "output_type": "stream",
          "name": "stdout",
          "text": [
            "WARNING:tensorflow:Layers in a Sequential model should only have a single input tensor, but we receive a <class 'tuple'> input: (<tf.Tensor 'IteratorGetNext:0' shape=(None, 1) dtype=int32>,)\n",
            "Consider rewriting this model with the Functional API.\n",
            "<bound method _EagerTensorBase.numpy of <tf.Tensor: shape=(10, 1), dtype=int32, numpy=\n",
            "array([[60],\n",
            "       [64],\n",
            "       [68],\n",
            "       [72],\n",
            "       [76],\n",
            "       [80],\n",
            "       [84],\n",
            "       [88],\n",
            "       [92],\n",
            "       [96]], dtype=int32)>> [[ 66.66603 ]\n",
            " [ 71.0522  ]\n",
            " [ 75.438354]\n",
            " [ 79.82452 ]\n",
            " [ 84.210686]\n",
            " [ 88.596855]\n",
            " [ 92.98301 ]\n",
            " [ 97.36917 ]\n",
            " [101.75534 ]\n",
            " [106.141495]]\n",
            "Model: \"sequential_2\"\n",
            "_________________________________________________________________\n",
            " Layer (type)                Output Shape              Param #   \n",
            "=================================================================\n",
            " dense_5 (Dense)             (None, 100)               200       \n",
            "                                                                 \n",
            " dense_6 (Dense)             (None, 100)               10100     \n",
            "                                                                 \n",
            " dense_7 (Dense)             (None, 100)               10100     \n",
            "                                                                 \n",
            " dense_8 (Dense)             (None, 1)                 101       \n",
            "                                                                 \n",
            "=================================================================\n",
            "Total params: 20,501\n",
            "Trainable params: 20,501\n",
            "Non-trainable params: 0\n",
            "_________________________________________________________________\n"
          ]
        }
      ]
    }
  ]
}