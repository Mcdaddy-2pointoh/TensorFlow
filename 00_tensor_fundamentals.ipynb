{
  "nbformat": 4,
  "nbformat_minor": 0,
  "metadata": {
    "colab": {
      "name": "00_tensor_fundamentals.ipynb",
      "provenance": [],
      "collapsed_sections": [
        "UHZSl98oupeQ",
        "d76Y_dVzsXuE",
        "Pr_grMdbvABu",
        "gcFpwFesxCA8",
        "AaFzwucH6Xwr",
        "dhIY6jjx8TkF",
        "YbRRIvg_9IkX",
        "8m1u5h27usS9",
        "E1NsUz1O52wA"
      ],
      "toc_visible": true
    },
    "kernelspec": {
      "name": "python3",
      "display_name": "Python 3"
    },
    "language_info": {
      "name": "python"
    }
  },
  "cells": [
    {
      "cell_type": "markdown",
      "metadata": {
        "id": "STmhcRcNmZAG"
      },
      "source": [
        "#✅✅✅✅ START OF TENSORFLOW BASICS ✅✅✅✅\n",
        "\n",
        "\n",
        "\n",
        "\n"
      ]
    },
    {
      "cell_type": "markdown",
      "metadata": {
        "id": "l50m_HH5rXl3"
      },
      "source": [
        "### ⚫ Tensor with \n",
        "\n",
        "```\n",
        "tf.constant() \n",
        "```"
      ]
    },
    {
      "cell_type": "code",
      "metadata": {
        "colab": {
          "base_uri": "https://localhost:8080/"
        },
        "id": "u1sA18qEm9A9",
        "outputId": "1abfd6d4-25ed-49e4-f49b-161a3da50746"
      },
      "source": [
        "# Importing tensorflow\n",
        "import tensorflow as tf\n",
        "print(tf.__version__)\n"
      ],
      "execution_count": null,
      "outputs": [
        {
          "output_type": "stream",
          "name": "stdout",
          "text": [
            "2.7.0\n"
          ]
        }
      ]
    },
    {
      "cell_type": "code",
      "metadata": {
        "colab": {
          "base_uri": "https://localhost:8080/"
        },
        "id": "-k1MBqVXncVc",
        "outputId": "91785c69-a8a2-4dd3-d5ed-23f2d15b78df"
      },
      "source": [
        "# Creating tensors with tf.constant()\n",
        "scalar = tf.constant(7)\n",
        "scalar"
      ],
      "execution_count": null,
      "outputs": [
        {
          "output_type": "execute_result",
          "data": {
            "text/plain": [
              "<tf.Tensor: shape=(), dtype=int32, numpy=7>"
            ]
          },
          "metadata": {},
          "execution_count": 2
        }
      ]
    },
    {
      "cell_type": "code",
      "metadata": {
        "colab": {
          "base_uri": "https://localhost:8080/"
        },
        "id": "8Wqkk3E8nyal",
        "outputId": "76796cad-f248-4dce-b88a-6fd1799e3c4a"
      },
      "source": [
        "# Dimensions of tensor\n",
        "scalar.ndim"
      ],
      "execution_count": null,
      "outputs": [
        {
          "output_type": "execute_result",
          "data": {
            "text/plain": [
              "0"
            ]
          },
          "metadata": {},
          "execution_count": 3
        }
      ]
    },
    {
      "cell_type": "code",
      "metadata": {
        "colab": {
          "base_uri": "https://localhost:8080/"
        },
        "id": "Y8JhArQ8n4vl",
        "outputId": "58f44f98-60f5-4d9e-8853-2e9c34492253"
      },
      "source": [
        "# Creating a Vector\n",
        "vector = tf.constant([10,10])\n",
        "vector"
      ],
      "execution_count": null,
      "outputs": [
        {
          "output_type": "execute_result",
          "data": {
            "text/plain": [
              "<tf.Tensor: shape=(2,), dtype=int32, numpy=array([10, 10], dtype=int32)>"
            ]
          },
          "metadata": {},
          "execution_count": 4
        }
      ]
    },
    {
      "cell_type": "code",
      "metadata": {
        "colab": {
          "base_uri": "https://localhost:8080/"
        },
        "id": "IyQaIvtUoAwB",
        "outputId": "c58e5747-1ee6-4ce5-bab5-51a61c63e4d9"
      },
      "source": [
        "# Dimension of a vector\n",
        "vector.ndim"
      ],
      "execution_count": null,
      "outputs": [
        {
          "output_type": "execute_result",
          "data": {
            "text/plain": [
              "1"
            ]
          },
          "metadata": {},
          "execution_count": 5
        }
      ]
    },
    {
      "cell_type": "code",
      "metadata": {
        "colab": {
          "base_uri": "https://localhost:8080/"
        },
        "id": "3kQSTvXQnXG9",
        "outputId": "b87d4933-8235-4887-b4cd-df2faf1a52a5"
      },
      "source": [
        "# Create a matrix\n",
        "matrix = tf.constant ([[10, 7], [69, 420]])\n",
        "matrix"
      ],
      "execution_count": null,
      "outputs": [
        {
          "output_type": "execute_result",
          "data": {
            "text/plain": [
              "<tf.Tensor: shape=(2, 2), dtype=int32, numpy=\n",
              "array([[ 10,   7],\n",
              "       [ 69, 420]], dtype=int32)>"
            ]
          },
          "metadata": {},
          "execution_count": 6
        }
      ]
    },
    {
      "cell_type": "code",
      "metadata": {
        "colab": {
          "base_uri": "https://localhost:8080/"
        },
        "id": "B8hHjs9lobKz",
        "outputId": "82f88de0-9008-414e-af67-c6542d4ef82d"
      },
      "source": [
        "# Dimension of a matrix\n",
        "matrix.ndim\n"
      ],
      "execution_count": null,
      "outputs": [
        {
          "output_type": "execute_result",
          "data": {
            "text/plain": [
              "2"
            ]
          },
          "metadata": {},
          "execution_count": 7
        }
      ]
    },
    {
      "cell_type": "code",
      "metadata": {
        "colab": {
          "base_uri": "https://localhost:8080/"
        },
        "id": "4TQPv6bjoivJ",
        "outputId": "2a2cfcfb-7e3a-407e-e680-9678c45e3d99"
      },
      "source": [
        "# Matrix with specified dtype\n",
        "matrix_2 = tf.constant([[10.,7.], [19., 24.], [69., 420.]] , dtype=tf.float16)\n",
        "matrix_2"
      ],
      "execution_count": null,
      "outputs": [
        {
          "output_type": "execute_result",
          "data": {
            "text/plain": [
              "<tf.Tensor: shape=(3, 2), dtype=float16, numpy=\n",
              "array([[ 10.,   7.],\n",
              "       [ 19.,  24.],\n",
              "       [ 69., 420.]], dtype=float16)>"
            ]
          },
          "metadata": {},
          "execution_count": 8
        }
      ]
    },
    {
      "cell_type": "code",
      "metadata": {
        "colab": {
          "base_uri": "https://localhost:8080/"
        },
        "id": "OB3TSRTWpesk",
        "outputId": "2f0fb984-e2fc-4b7a-af9c-2d63eb17c47b"
      },
      "source": [
        " # Dimension of tensor\n",
        " matrix_2.ndim"
      ],
      "execution_count": null,
      "outputs": [
        {
          "output_type": "execute_result",
          "data": {
            "text/plain": [
              "2"
            ]
          },
          "metadata": {},
          "execution_count": 9
        }
      ]
    },
    {
      "cell_type": "code",
      "metadata": {
        "colab": {
          "base_uri": "https://localhost:8080/"
        },
        "id": "X3hSPc4pp48H",
        "outputId": "3ff26921-6c1c-42b8-f9ae-247b195e4722"
      },
      "source": [
        "# Creating a tensor\n",
        "tensor = tf.constant([[[1,2,3],[4,5,6]],[[7,8,9],[10,11,12]]])\n",
        "tensor"
      ],
      "execution_count": null,
      "outputs": [
        {
          "output_type": "execute_result",
          "data": {
            "text/plain": [
              "<tf.Tensor: shape=(2, 2, 3), dtype=int32, numpy=\n",
              "array([[[ 1,  2,  3],\n",
              "        [ 4,  5,  6]],\n",
              "\n",
              "       [[ 7,  8,  9],\n",
              "        [10, 11, 12]]], dtype=int32)>"
            ]
          },
          "metadata": {},
          "execution_count": 10
        }
      ]
    },
    {
      "cell_type": "code",
      "metadata": {
        "colab": {
          "base_uri": "https://localhost:8080/"
        },
        "id": "Ll8JgVUcqPoZ",
        "outputId": "c7dabe17-af45-4c9a-a97d-c2cfa4df90a8"
      },
      "source": [
        "# Dimension of tensor\n",
        "tensor.ndim"
      ],
      "execution_count": null,
      "outputs": [
        {
          "output_type": "execute_result",
          "data": {
            "text/plain": [
              "3"
            ]
          },
          "metadata": {},
          "execution_count": 11
        }
      ]
    },
    {
      "cell_type": "markdown",
      "metadata": {
        "id": "3GWABqazq4Xq"
      },
      "source": [
        "### ⚫ Tensor with \n",
        "```\n",
        "tf.Variable\n",
        "```\n",
        "\n"
      ]
    },
    {
      "cell_type": "code",
      "metadata": {
        "colab": {
          "base_uri": "https://localhost:8080/"
        },
        "id": "-jg6z2ImqTf-",
        "outputId": "d7ebd1f0-8a41-4834-ba44-87693d6ef1e5"
      },
      "source": [
        "# Create the same tensor as above but changeable\n",
        "tensor_2 = tf.Variable([10,10])\n",
        "tensor_2[0].assign(7)\n",
        "print(tensor_2)"
      ],
      "execution_count": null,
      "outputs": [
        {
          "output_type": "stream",
          "name": "stdout",
          "text": [
            "<tf.Variable 'Variable:0' shape=(2,) dtype=int32, numpy=array([ 7, 10], dtype=int32)>\n"
          ]
        }
      ]
    },
    {
      "cell_type": "markdown",
      "metadata": {
        "id": "zPIo8uIiEFyA"
      },
      "source": [
        "### ⚫ Creating a random tensor to initialize a neural network"
      ]
    },
    {
      "cell_type": "code",
      "metadata": {
        "colab": {
          "base_uri": "https://localhost:8080/"
        },
        "id": "aTt7vWUPx1-o",
        "outputId": "c7be71bb-fd37-4975-b45d-25f32ba97d32"
      },
      "source": [
        "\n",
        "random_1 = tf.random.Generator.from_seed(42) #set seed for reproducibility\n",
        "random_1 = random_1.normal(shape=(3,2))\n",
        "\n",
        "random_2 = tf.random.Generator.from_seed(42)\n",
        "random_2 = random_2.normal(shape=(3,2))\n",
        "\n",
        "random_1, random_2, random_1 == random_2\n"
      ],
      "execution_count": null,
      "outputs": [
        {
          "output_type": "execute_result",
          "data": {
            "text/plain": [
              "(<tf.Tensor: shape=(3, 2), dtype=float32, numpy=\n",
              " array([[-0.7565803 , -0.06854702],\n",
              "        [ 0.07595026, -1.2573844 ],\n",
              "        [-0.23193763, -1.8107855 ]], dtype=float32)>,\n",
              " <tf.Tensor: shape=(3, 2), dtype=float32, numpy=\n",
              " array([[-0.7565803 , -0.06854702],\n",
              "        [ 0.07595026, -1.2573844 ],\n",
              "        [-0.23193763, -1.8107855 ]], dtype=float32)>,\n",
              " <tf.Tensor: shape=(3, 2), dtype=bool, numpy=\n",
              " array([[ True,  True],\n",
              "        [ True,  True],\n",
              "        [ True,  True]])>)"
            ]
          },
          "metadata": {},
          "execution_count": 13
        }
      ]
    },
    {
      "cell_type": "markdown",
      "metadata": {
        "id": "Czuw8DYJzd1H"
      },
      "source": [
        "###⚫ Shuffle a random tensor generated\n",
        "Used to randomize tensors to adapt the NN to the varied coonditions we generate\n"
      ]
    },
    {
      "cell_type": "code",
      "metadata": {
        "colab": {
          "base_uri": "https://localhost:8080/"
        },
        "id": "dG-7KxUkz4Cn",
        "outputId": "61a67045-6209-43f3-e773-12d0ee2cdb88"
      },
      "source": [
        "unshuffled = tf.constant([[1,2],[3,4]])\n",
        "tf.random.shuffle(unshuffled, seed= 42)"
      ],
      "execution_count": null,
      "outputs": [
        {
          "output_type": "execute_result",
          "data": {
            "text/plain": [
              "<tf.Tensor: shape=(2, 2), dtype=int32, numpy=\n",
              "array([[3, 4],\n",
              "       [1, 2]], dtype=int32)>"
            ]
          },
          "metadata": {},
          "execution_count": 40
        }
      ]
    },
    {
      "cell_type": "code",
      "metadata": {
        "colab": {
          "base_uri": "https://localhost:8080/"
        },
        "id": "oxSvYZGU1Gmx",
        "outputId": "c55e0321-4489-43b3-9c6d-e09850398d24"
      },
      "source": [
        "# Excersise\n",
        "\n",
        "random_1 = tf.random.Generator.from_seed(42)\n",
        "random_1 = random_1.normal(shape=(7,8))\n",
        "tf.random.shuffle(random_1, seed=12)\n",
        "\n",
        "random_2 = tf.random.Generator.from_seed(37)\n",
        "random_2 = random_2.normal(shape=(10, 12))\n",
        "tf.random.shuffle(random_2, seed=8)\n",
        "\n"
      ],
      "execution_count": null,
      "outputs": [
        {
          "output_type": "execute_result",
          "data": {
            "text/plain": [
              "<tf.Tensor: shape=(10, 12), dtype=float32, numpy=\n",
              "array([[ 0.4604257 ,  0.514933  , -0.06519881, -1.442522  , -0.48492542,\n",
              "        -1.8364043 ,  0.91463274,  0.5145402 ,  0.5517507 , -0.3741098 ,\n",
              "        -0.28709963,  1.5089895 ],\n",
              "       [-1.5780283 , -0.92161775,  0.268676  ,  0.9418312 , -0.9465717 ,\n",
              "        -0.7108357 ,  1.2995545 , -0.6149066 , -1.4713507 , -0.10086866,\n",
              "         0.9603877 , -1.6370124 ],\n",
              "       [ 0.17664973, -0.67038715, -0.503455  , -1.203792  , -2.5255601 ,\n",
              "         0.05080947,  1.7212061 , -0.6575125 ,  0.7939443 ,  1.3212339 ,\n",
              "         0.34584793, -0.6699328 ],\n",
              "       [-1.5184573 , -0.4585211 ,  0.5714663 , -1.5331722 ,  0.45331386,\n",
              "         1.1487608 , -1.2659091 , -0.47450137,  2.006022  ,  0.28288034,\n",
              "        -0.30288252, -1.443651  ],\n",
              "       [-0.04082382,  2.6791053 ,  1.0914806 ,  0.33149615, -0.67958915,\n",
              "         0.44723678, -0.17811584,  0.24882518,  0.49689844,  0.8259971 ,\n",
              "         1.0340209 , -0.24918637],\n",
              "       [ 1.6874489 , -0.4462975 , -2.3410842 ,  0.99009085, -0.0876323 ,\n",
              "        -0.635568  , -0.6161736 , -1.9441465 , -0.48293006, -0.52447474,\n",
              "        -1.0345329 ,  1.3066901 ],\n",
              "       [ 0.41367555,  0.17573498, -1.0871261 ,  0.45905176,  0.20386009,\n",
              "         0.562024  , -2.3001142 , -1.349454  ,  0.81485   ,  1.2790666 ,\n",
              "         0.02203509,  1.5428121 ],\n",
              "       [-0.23193763, -1.8107855 ,  0.09988727, -0.50998646, -0.7535805 ,\n",
              "        -0.57166284,  0.1480774 , -0.23362993, -0.3522796 ,  0.40621263,\n",
              "        -1.0523509 ,  1.2054597 ],\n",
              "       [ 1.0034493 ,  0.20857747,  0.35700995,  1.0648885 ,  1.2432485 ,\n",
              "        -2.2173238 ,  0.18706243,  0.6617961 ,  0.01380118, -0.24827152,\n",
              "         1.2111493 , -0.7199124 ],\n",
              "       [ 0.78953624,  0.53897345, -0.48535708,  0.74055266,  0.31662667,\n",
              "        -1.4391748 ,  0.58923835, -1.4268045 , -0.7565803 , -0.06854702,\n",
              "         0.07595026, -1.2573844 ]], dtype=float32)>"
            ]
          },
          "metadata": {},
          "execution_count": 41
        }
      ]
    },
    {
      "cell_type": "markdown",
      "metadata": {
        "id": "cFXzpwko2yze"
      },
      "source": [
        "### ⚫ Understanding keys\n",
        "to make tensors reproducibly random keep global and function specifc seed same. "
      ]
    },
    {
      "cell_type": "code",
      "metadata": {
        "colab": {
          "base_uri": "https://localhost:8080/"
        },
        "id": "9ktOcYmEuduM",
        "outputId": "2e8bd67d-6d86-4cf7-e726-2d31294828bd"
      },
      "source": [
        "tf.ones([10,2])\n",
        "tf.zeros([10,2])\n"
      ],
      "execution_count": null,
      "outputs": [
        {
          "output_type": "execute_result",
          "data": {
            "text/plain": [
              "<tf.Tensor: shape=(10, 2), dtype=float32, numpy=\n",
              "array([[0., 0.],\n",
              "       [0., 0.],\n",
              "       [0., 0.],\n",
              "       [0., 0.],\n",
              "       [0., 0.],\n",
              "       [0., 0.],\n",
              "       [0., 0.],\n",
              "       [0., 0.],\n",
              "       [0., 0.],\n",
              "       [0., 0.]], dtype=float32)>"
            ]
          },
          "metadata": {},
          "execution_count": 16
        }
      ]
    },
    {
      "cell_type": "markdown",
      "metadata": {
        "id": "UHZSl98oupeQ"
      },
      "source": [
        "### ⚫ Numpy arrays into tensor & shaping arrays when converting to tensors\n"
      ]
    },
    {
      "cell_type": "code",
      "metadata": {
        "colab": {
          "base_uri": "https://localhost:8080/"
        },
        "id": "UKsEGNLJvVFS",
        "outputId": "dc987204-8f95-4091-e7d7-74b7387633dc"
      },
      "source": [
        "import numpy as np\n",
        "A = np.arange(1,31, dtype=np.int32)\n",
        "tf.constant(A, shape=(2,3,5))\n"
      ],
      "execution_count": null,
      "outputs": [
        {
          "output_type": "execute_result",
          "data": {
            "text/plain": [
              "<tf.Tensor: shape=(2, 3, 5), dtype=int32, numpy=\n",
              "array([[[ 1,  2,  3,  4,  5],\n",
              "        [ 6,  7,  8,  9, 10],\n",
              "        [11, 12, 13, 14, 15]],\n",
              "\n",
              "       [[16, 17, 18, 19, 20],\n",
              "        [21, 22, 23, 24, 25],\n",
              "        [26, 27, 28, 29, 30]]], dtype=int32)>"
            ]
          },
          "metadata": {},
          "execution_count": 17
        }
      ]
    },
    {
      "cell_type": "markdown",
      "metadata": {
        "id": "d76Y_dVzsXuE"
      },
      "source": [
        "### ⚫ Tensor Data \n",
        "\n",
        "* Shape\n",
        "* Rank\n",
        "* Axis/Dimension\n",
        "* Size\n",
        "\n",
        "\n"
      ]
    },
    {
      "cell_type": "code",
      "metadata": {
        "colab": {
          "base_uri": "https://localhost:8080/"
        },
        "id": "QwbncrG7sZYt",
        "outputId": "bb30b035-24e7-4c64-9ceb-799719b7e19c"
      },
      "source": [
        "rank_4_tensor = tf.zeros(shape=[3,2,3,4])\n",
        "rank_4_tensor"
      ],
      "execution_count": null,
      "outputs": [
        {
          "output_type": "execute_result",
          "data": {
            "text/plain": [
              "<tf.Tensor: shape=(3, 2, 3, 4), dtype=float32, numpy=\n",
              "array([[[[0., 0., 0., 0.],\n",
              "         [0., 0., 0., 0.],\n",
              "         [0., 0., 0., 0.]],\n",
              "\n",
              "        [[0., 0., 0., 0.],\n",
              "         [0., 0., 0., 0.],\n",
              "         [0., 0., 0., 0.]]],\n",
              "\n",
              "\n",
              "       [[[0., 0., 0., 0.],\n",
              "         [0., 0., 0., 0.],\n",
              "         [0., 0., 0., 0.]],\n",
              "\n",
              "        [[0., 0., 0., 0.],\n",
              "         [0., 0., 0., 0.],\n",
              "         [0., 0., 0., 0.]]],\n",
              "\n",
              "\n",
              "       [[[0., 0., 0., 0.],\n",
              "         [0., 0., 0., 0.],\n",
              "         [0., 0., 0., 0.]],\n",
              "\n",
              "        [[0., 0., 0., 0.],\n",
              "         [0., 0., 0., 0.],\n",
              "         [0., 0., 0., 0.]]]], dtype=float32)>"
            ]
          },
          "metadata": {},
          "execution_count": 18
        }
      ]
    },
    {
      "cell_type": "code",
      "metadata": {
        "colab": {
          "base_uri": "https://localhost:8080/"
        },
        "id": "wmCkSgM9tOog",
        "outputId": "d7a43bca-82cf-453b-a271-f6141666c8b6"
      },
      "source": [
        "rank_4_tensor[0] , rank_4_tensor.shape, rank_4_tensor.ndim, tf.size(rank_4_tensor)"
      ],
      "execution_count": null,
      "outputs": [
        {
          "output_type": "execute_result",
          "data": {
            "text/plain": [
              "(<tf.Tensor: shape=(2, 3, 4), dtype=float32, numpy=\n",
              " array([[[0., 0., 0., 0.],\n",
              "         [0., 0., 0., 0.],\n",
              "         [0., 0., 0., 0.]],\n",
              " \n",
              "        [[0., 0., 0., 0.],\n",
              "         [0., 0., 0., 0.],\n",
              "         [0., 0., 0., 0.]]], dtype=float32)>,\n",
              " TensorShape([3, 2, 3, 4]),\n",
              " 4,\n",
              " <tf.Tensor: shape=(), dtype=int32, numpy=72>)"
            ]
          },
          "metadata": {},
          "execution_count": 19
        }
      ]
    },
    {
      "cell_type": "code",
      "metadata": {
        "colab": {
          "base_uri": "https://localhost:8080/"
        },
        "id": "GA4kqyRMt-FB",
        "outputId": "02f1a8e9-e781-4319-bf3a-becba5099cb1"
      },
      "source": [
        "# Various attribute of our tensor\n",
        "print(f'Datatype of every element: {rank_4_tensor.dtype}')\n",
        "print(f'Number of dimensions (rank): {rank_4_tensor.ndim}')\n",
        "print(f'Shape of tensor: {rank_4_tensor.shape}')\n",
        "print(f'Elements along 0th axis: {rank_4_tensor.shape[0]}')\n",
        "print(f'Total elements: {tf.size(rank_4_tensor).numpy()}')"
      ],
      "execution_count": null,
      "outputs": [
        {
          "output_type": "stream",
          "name": "stdout",
          "text": [
            "Datatype of every element: <dtype: 'float32'>\n",
            "Number of dimensions (rank): 4\n",
            "Shape of tensor: (3, 2, 3, 4)\n",
            "Elements along 0th axis: 3\n",
            "Total elements: 72\n"
          ]
        }
      ]
    },
    {
      "cell_type": "markdown",
      "metadata": {
        "id": "Pr_grMdbvABu"
      },
      "source": [
        "### ⚫ Indexing tensors\n",
        "Indexing on tensors is like python list\n",
        "\n",
        " "
      ]
    },
    {
      "cell_type": "code",
      "metadata": {
        "colab": {
          "base_uri": "https://localhost:8080/"
        },
        "id": "vmwJ_E6CvGR8",
        "outputId": "1d2285c9-2447-48ee-c49c-cb279064aa24"
      },
      "source": [
        "# First two elements of each dimensions\n",
        "rank_4_tensor[:2, :2, :2, :2]"
      ],
      "execution_count": null,
      "outputs": [
        {
          "output_type": "execute_result",
          "data": {
            "text/plain": [
              "<tf.Tensor: shape=(2, 2, 2, 2), dtype=float32, numpy=\n",
              "array([[[[0., 0.],\n",
              "         [0., 0.]],\n",
              "\n",
              "        [[0., 0.],\n",
              "         [0., 0.]]],\n",
              "\n",
              "\n",
              "       [[[0., 0.],\n",
              "         [0., 0.]],\n",
              "\n",
              "        [[0., 0.],\n",
              "         [0., 0.]]]], dtype=float32)>"
            ]
          },
          "metadata": {},
          "execution_count": 21
        }
      ]
    },
    {
      "cell_type": "code",
      "metadata": {
        "colab": {
          "base_uri": "https://localhost:8080/"
        },
        "id": "1Wu-LN0eviyW",
        "outputId": "d205a42a-1517-4c80-bbd8-294ee82ef142"
      },
      "source": [
        "# Get first element from each index except for the final one\n",
        "rank_4_tensor[:1, :1, :1, :]"
      ],
      "execution_count": null,
      "outputs": [
        {
          "output_type": "execute_result",
          "data": {
            "text/plain": [
              "<tf.Tensor: shape=(1, 1, 1, 4), dtype=float32, numpy=array([[[[0., 0., 0., 0.]]]], dtype=float32)>"
            ]
          },
          "metadata": {},
          "execution_count": 22
        }
      ]
    },
    {
      "cell_type": "code",
      "metadata": {
        "id": "XJ4j4F3nwHJe"
      },
      "source": [
        "# Adding extra dimensions to a tensor\n",
        "rank_2_tensor = tf.constant([[1,2,3,4], [1,2,3,4]])\n",
        "rank_2_tensor , rank_2_tensor.ndim\n",
        "rank_2_tensor[:, -1]\n",
        "\n",
        "# Method 1\n",
        "rank_3_tensor = rank_2_tensor[... , tf.newaxis]\n",
        "\n",
        "# Method 2\n",
        "rank_3_tensor_1 = tf.expand_dims(rank_2_tensor, axis=-1) # -1 Expands on the last axis and 0 expands on the first axis\n"
      ],
      "execution_count": null,
      "outputs": []
    },
    {
      "cell_type": "markdown",
      "metadata": {
        "id": "gcFpwFesxCA8"
      },
      "source": [
        "###⚫ Tensor Manipulation\n",
        "\n",
        "1. Add\n",
        "2. Mul\n",
        "3. Sub\n",
        "4. Divide"
      ]
    },
    {
      "cell_type": "code",
      "metadata": {
        "colab": {
          "base_uri": "https://localhost:8080/"
        },
        "id": "E6SSghMryUW8",
        "outputId": "502ccd01-4bf9-4634-8801-a6441ba4f6f0"
      },
      "source": [
        "# Scalar ops to tensor\n",
        "\n",
        "tensor = tf.constant([[10, 15],[12, 43]])\n",
        "print(tensor + 10)  # tf.math.add\n",
        "print(tensor * 10)  # tf.math.multiply\n",
        "print(tensor / 10)  # \n",
        "print(tensor - 10)  # tf.math.subtract\n"
      ],
      "execution_count": null,
      "outputs": [
        {
          "output_type": "stream",
          "name": "stdout",
          "text": [
            "tf.Tensor(\n",
            "[[20 25]\n",
            " [22 53]], shape=(2, 2), dtype=int32)\n",
            "tf.Tensor(\n",
            "[[100 150]\n",
            " [120 430]], shape=(2, 2), dtype=int32)\n",
            "tf.Tensor(\n",
            "[[1.  1.5]\n",
            " [1.2 4.3]], shape=(2, 2), dtype=float64)\n",
            "tf.Tensor(\n",
            "[[ 0  5]\n",
            " [ 2 33]], shape=(2, 2), dtype=int32)\n"
          ]
        }
      ]
    },
    {
      "cell_type": "code",
      "metadata": {
        "colab": {
          "base_uri": "https://localhost:8080/"
        },
        "id": "XxS16k1c0ni4",
        "outputId": "ebea0f41-b212-449b-de75-1faedf7a9227"
      },
      "source": [
        "# Matrix multiplication in tensors\n",
        "tf.matmul(tensor, tensor)\n"
      ],
      "execution_count": null,
      "outputs": [
        {
          "output_type": "execute_result",
          "data": {
            "text/plain": [
              "<tf.Tensor: shape=(2, 2), dtype=int32, numpy=\n",
              "array([[ 280,  795],\n",
              "       [ 636, 2029]], dtype=int32)>"
            ]
          },
          "metadata": {},
          "execution_count": 25
        }
      ]
    },
    {
      "cell_type": "code",
      "metadata": {
        "colab": {
          "base_uri": "https://localhost:8080/"
        },
        "id": "j9EmrintzHqX",
        "outputId": "bd4f4a27-99e3-4035-f216-4537c1bab9f7"
      },
      "source": [
        "# Matrix multiplication with Python operator \"@\"\n",
        "# Note tensor * tensor is element wise multiplication\n",
        "\n",
        "A = tf.constant([[1,2,5],[7,2,1],[3,3,3]])\n",
        "B = tf.constant([[3,5],[6,7],[1,8]])\n",
        "\n",
        "print(A@B)"
      ],
      "execution_count": null,
      "outputs": [
        {
          "output_type": "stream",
          "name": "stdout",
          "text": [
            "tf.Tensor(\n",
            "[[20 59]\n",
            " [34 57]\n",
            " [30 60]], shape=(3, 2), dtype=int32)\n"
          ]
        }
      ]
    },
    {
      "cell_type": "code",
      "metadata": {
        "colab": {
          "base_uri": "https://localhost:8080/"
        },
        "id": "xzqORMKW48_w",
        "outputId": "1489278d-3c7d-4f42-d787-a3097cd05768"
      },
      "source": [
        "# Matrix multiplication using tf.tensordot()\n",
        "tf.tensordot(A, B, axes=1 )"
      ],
      "execution_count": null,
      "outputs": [
        {
          "output_type": "execute_result",
          "data": {
            "text/plain": [
              "<tf.Tensor: shape=(3, 2), dtype=int32, numpy=\n",
              "array([[20, 59],\n",
              "       [34, 57],\n",
              "       [30, 60]], dtype=int32)>"
            ]
          },
          "metadata": {},
          "execution_count": 27
        }
      ]
    },
    {
      "cell_type": "markdown",
      "metadata": {
        "id": "AaFzwucH6Xwr"
      },
      "source": [
        "###⚫ Changing tensor Datatype"
      ]
    },
    {
      "cell_type": "code",
      "metadata": {
        "colab": {
          "base_uri": "https://localhost:8080/"
        },
        "id": "tph3sDtX6WeI",
        "outputId": "fd44bb64-b3bf-4093-f2dc-2b8c565bf9ad"
      },
      "source": [
        "A.dtype #A is of int.32\n",
        "C = tf.cast(A, dtype=tf.int16)\n",
        "C.dtype"
      ],
      "execution_count": null,
      "outputs": [
        {
          "output_type": "execute_result",
          "data": {
            "text/plain": [
              "tf.int16"
            ]
          },
          "metadata": {},
          "execution_count": 28
        }
      ]
    },
    {
      "cell_type": "markdown",
      "metadata": {
        "id": "dhIY6jjx8TkF"
      },
      "source": [
        "### ⚫ Aggregation of tensors\n",
        "\n",
        "condense a multivalued tensor into a single valued tensor"
      ]
    },
    {
      "cell_type": "code",
      "metadata": {
        "colab": {
          "base_uri": "https://localhost:8080/"
        },
        "id": "IJImapLD8lag",
        "outputId": "14ed5382-09cc-483c-90c6-b10399c0d49a"
      },
      "source": [
        "# Get absolute value of the tensor\n",
        "B = tf.constant([[-1+2j, -3+2j],[4-5j, 8-9j]])\n",
        "tf.abs(B)"
      ],
      "execution_count": null,
      "outputs": [
        {
          "output_type": "execute_result",
          "data": {
            "text/plain": [
              "<tf.Tensor: shape=(2, 2), dtype=float64, numpy=\n",
              "array([[ 2.23606798,  3.60555128],\n",
              "       [ 6.40312424, 12.04159458]])>"
            ]
          },
          "metadata": {},
          "execution_count": 29
        }
      ]
    },
    {
      "cell_type": "markdown",
      "metadata": {
        "id": "YbRRIvg_9IkX"
      },
      "source": [
        "###⚫ Aggregation operations:\n",
        "\n",
        "* Minimum of tensor\n",
        "* Maxium of tensor\n",
        "* Mean of the tensor\n",
        "* Sum of the tensor\n",
        "* Squaring\n",
        "* Logrithmic\n",
        "* Square Root"
      ]
    },
    {
      "cell_type": "code",
      "metadata": {
        "colab": {
          "base_uri": "https://localhost:8080/"
        },
        "id": "CNpNOldA9qkT",
        "outputId": "440bb1a5-cd20-4d6c-d916-5e7b21a01a97"
      },
      "source": [
        "tensor = tf.constant([[1,2,3,4],[3,8,9,7],[8,4,5,6]])\n",
        "a=tf.math.reduce_mean(tensor).numpy() # for finding mean\n",
        "b=tf.math.reduce_max(tensor).numpy() # for finding the max number of the tensor\n",
        "c=tf.math.reduce_min(tensor).numpy() # for finding the min number of the tensor\n",
        "d=tf.math.reduce_sum(tensor).numpy() # sum of all elements of a tensor\n",
        "e=tf.math.reduce_std(tf.cast(tensor, dtype=tf.float32)).numpy() #to find the standard deviation of the tensor\n",
        "f=tf.math.reduce_variance(tf.cast(tensor, dtype=tf.float32)).numpy() #to find the standard deviation of the tensor\n",
        "g=tf.math.square(tensor).numpy() # To square a tensor \n",
        "h=tf.math.sqrt(tf.cast(tensor, dtype=tf.float32)).numpy() # To root a tensor\n",
        "i=tf.math.log(tf.cast(tensor, dtype=tf.float32)).numpy() # log of a tensor\n",
        "print(a,b,c,d, e, f, g, h, i)"
      ],
      "execution_count": null,
      "outputs": [
        {
          "output_type": "stream",
          "name": "stdout",
          "text": [
            "5 9 1 60 2.4832773 6.1666665 [[ 1  4  9 16]\n",
            " [ 9 64 81 49]\n",
            " [64 16 25 36]] [[0.99999994 1.4142134  1.7320508  1.9999999 ]\n",
            " [1.7320508  2.8284268  2.9999998  2.6457512 ]\n",
            " [2.828427   2.         2.236068   2.4494898 ]] [[0.        0.6931472 1.0986123 1.3862944]\n",
            " [1.0986123 2.0794415 2.1972246 1.9459102]\n",
            " [2.0794415 1.3862944 1.609438  1.7917595]]\n"
          ]
        }
      ]
    },
    {
      "cell_type": "markdown",
      "metadata": {
        "id": "8m1u5h27usS9"
      },
      "source": [
        "### ⚫ How to find Positional Maximum and Minimum in the tensor\n",
        "\n",
        "Representation outputs by neural networs are a set of probabilities hence we can use these methods to find positional maximum and minimum. Returns position of max values in tensor.\n"
      ]
    },
    {
      "cell_type": "code",
      "metadata": {
        "colab": {
          "base_uri": "https://localhost:8080/"
        },
        "id": "AfZ_HhFeu5GR",
        "outputId": "018adc65-1645-402b-fe66-3b475cefc3ff"
      },
      "source": [
        "test = tf.random.uniform(shape=[1, 1,1,1,1,1,1,1,40])\n",
        "\n",
        "# Squeezing a matrix, removing all dimensions of value 1\n",
        "test = tf.squeeze(test)\n",
        "print(test)\n",
        "\n",
        "# Finding position of larget number\n",
        "tf.argmax(test)\n",
        "\n",
        "# Finding position of smallest number\n",
        "tf.argmin(test)\n",
        "\n"
      ],
      "execution_count": null,
      "outputs": [
        {
          "output_type": "stream",
          "name": "stdout",
          "text": [
            "tf.Tensor(\n",
            "[0.09674799 0.38909578 0.75339603 0.67742276 0.8221277  0.2768438\n",
            " 0.23814607 0.33667147 0.03924799 0.00318229 0.6316972  0.29390514\n",
            " 0.90486956 0.09387946 0.51780474 0.7727573  0.3184322  0.23611414\n",
            " 0.37167048 0.9329841  0.30401993 0.6794492  0.2795689  0.6100912\n",
            " 0.31233037 0.8620124  0.9460925  0.17289138 0.72603285 0.6148132\n",
            " 0.48730326 0.6032548  0.9755868  0.58193326 0.36142373 0.30157566\n",
            " 0.5834217  0.42353165 0.27804422 0.19161344], shape=(40,), dtype=float32)\n"
          ]
        },
        {
          "output_type": "execute_result",
          "data": {
            "text/plain": [
              "<tf.Tensor: shape=(), dtype=int64, numpy=9>"
            ]
          },
          "metadata": {},
          "execution_count": 53
        }
      ]
    },
    {
      "cell_type": "markdown",
      "metadata": {
        "id": "E1NsUz1O52wA"
      },
      "source": [
        "### 🔴 One Hot Encoding\n",
        "\n",
        "Form of encoding actual data into numerical data"
      ]
    },
    {
      "cell_type": "code",
      "metadata": {
        "colab": {
          "base_uri": "https://localhost:8080/"
        },
        "id": "zbQr9s8o6Iau",
        "outputId": "ffd0e9ac-c1e5-4521-8ba0-c70dc61fb112"
      },
      "source": [
        "random_list = [0,1,2,3]\n",
        "\n",
        "# One hot encode of the list\n",
        "tf.one_hot(random_list, depth=len(random_list))"
      ],
      "execution_count": null,
      "outputs": [
        {
          "output_type": "execute_result",
          "data": {
            "text/plain": [
              "<tf.Tensor: shape=(4, 4), dtype=float32, numpy=\n",
              "array([[1., 0., 0., 0.],\n",
              "       [0., 1., 0., 0.],\n",
              "       [0., 0., 1., 0.],\n",
              "       [0., 0., 0., 1.]], dtype=float32)>"
            ]
          },
          "metadata": {},
          "execution_count": 61
        }
      ]
    },
    {
      "cell_type": "code",
      "metadata": {
        "colab": {
          "base_uri": "https://localhost:8080/"
        },
        "id": "0vkqPvJO9C8i",
        "outputId": "4dc81641-8982-4af0-cc1d-40f906654bca"
      },
      "source": [
        "# Specify custom values for one hot encoding\n",
        "tf.one_hot(random_list, len(random_list), on_value='YES', off_value='NO')"
      ],
      "execution_count": null,
      "outputs": [
        {
          "output_type": "execute_result",
          "data": {
            "text/plain": [
              "<tf.Tensor: shape=(4, 4), dtype=string, numpy=\n",
              "array([[b'YES', b'NO', b'NO', b'NO'],\n",
              "       [b'NO', b'YES', b'NO', b'NO'],\n",
              "       [b'NO', b'NO', b'YES', b'NO'],\n",
              "       [b'NO', b'NO', b'NO', b'YES']], dtype=object)>"
            ]
          },
          "metadata": {},
          "execution_count": 58
        }
      ]
    },
    {
      "cell_type": "markdown",
      "metadata": {
        "id": "U7XhzKJk9tai"
      },
      "source": [
        "#❌❌❌❌ END OF TENSORFLOW BASICS ❌❌❌❌"
      ]
    }
  ]
}