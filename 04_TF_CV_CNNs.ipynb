{
  "nbformat": 4,
  "nbformat_minor": 0,
  "metadata": {
    "colab": {
      "provenance": [],
      "toc_visible": true
    },
    "kernelspec": {
      "name": "python3",
      "display_name": "Python 3"
    },
    "language_info": {
      "name": "python"
    }
  },
  "cells": [
    {
      "cell_type": "markdown",
      "source": [
        "# 0. Imports"
      ],
      "metadata": {
        "id": "i5CyB0v2S4ct"
      }
    },
    {
      "cell_type": "code",
      "source": [
        "import tensorflow as tf\n",
        "import pandas as pd\n",
        "import numpy as np\n",
        "import matplotlib.pyplot as plt\n",
        "import pickle\n",
        "import json\n",
        "import seaborn as sns\n",
        "import math\n",
        "from PIL import Image as im"
      ],
      "metadata": {
        "id": "_LEBQbJUTKo-"
      },
      "execution_count": 111,
      "outputs": []
    },
    {
      "cell_type": "markdown",
      "source": [
        "# 1. Load data\n",
        "\n",
        "You can download this data set from: https://www.cs.toronto.edu/~kriz/cifar.html"
      ],
      "metadata": {
        "id": "akDSWluvsGDU"
      }
    },
    {
      "cell_type": "code",
      "source": [
        "!mkdir -p 'data'\n",
        "!tar -xzvf 'data/cifar-100-python.tar.gz' -C 'data'"
      ],
      "metadata": {
        "colab": {
          "base_uri": "https://localhost:8080/"
        },
        "id": "NSLAyFFrs5do",
        "outputId": "6592be1b-7e5a-461b-8c29-efe66f28a329"
      },
      "execution_count": 6,
      "outputs": [
        {
          "output_type": "stream",
          "name": "stdout",
          "text": [
            "cifar-100-python/\n",
            "cifar-100-python/file.txt~\n",
            "cifar-100-python/train\n",
            "cifar-100-python/test\n",
            "cifar-100-python/meta\n"
          ]
        }
      ]
    },
    {
      "cell_type": "code",
      "source": [
        "# Unpickling and loading dataset function\n",
        "def unpickle(file):\n",
        "    \"\"\"\n",
        "    Function: Unpickle the files given a path\n",
        "    Args:\n",
        "        file (str): The filepath of the file to unpickle\n",
        "    Returns:\n",
        "        data_dictionary (dict): The unpickled dictionary\n",
        "    \"\"\"\n",
        "    with open(file, 'rb') as f:\n",
        "        data_dictionary = pickle.load(f, encoding='bytes')\n",
        "    return data_dictionary"
      ],
      "metadata": {
        "id": "vdehgK8rt3ly"
      },
      "execution_count": 52,
      "outputs": []
    },
    {
      "cell_type": "code",
      "source": [
        "def convert_byte_strings_to_strings(data_dictionary):\n",
        "    \"\"\"\n",
        "    Function: Convert byte strings to strings\n",
        "    Args:\n",
        "        data_dictionary (dict): The dictionary to convert\n",
        "    Returns:\n",
        "        data_dictionary_str (dict): The converted dictionary\n",
        "    \"\"\"\n",
        "\n",
        "    # Instance an empty object\n",
        "    data_dictionary_str = {}\n",
        "\n",
        "    # Typecast the train dataset\n",
        "    for key in data_dictionary.keys():\n",
        "\n",
        "        # Change byte strings to strings\n",
        "        if type(data_dictionary[key][0]) == str:\n",
        "            data_dictionary_str[key.decode(\"utf-8\")] = [item.decode(\"utf-8\") for item in data_dictionary[key]]\n",
        "\n",
        "        # Else just later the key strings\n",
        "        else:\n",
        "            data_dictionary_str[key.decode(\"utf-8\")] = data_dictionary[key]\n",
        "\n",
        "    return data_dictionary_str"
      ],
      "metadata": {
        "id": "wnG_3G-q3F-T"
      },
      "execution_count": 53,
      "outputs": []
    },
    {
      "cell_type": "code",
      "source": [
        "# Unpickling the files\n",
        "def load_CIFR_data(dir: str, label_type: str = \"fine_labels\"):\n",
        "    \"\"\"\n",
        "    Function: Load the data from pickle files\n",
        "    Args:\n",
        "        path (str): The  path to directory containg the pickle files of CIFR\n",
        "        label_type (str): The type of labels to return\n",
        "    \"\"\"\n",
        "    # Validate label_type\n",
        "    if label_type not in [\"fine_labels\", \"coarse_labels\"]:\n",
        "        raise ValueError(\"label_type must be one of fine_labels or coarse_labels\")\n",
        "\n",
        "    # Load the train data set\n",
        "    train_data_object =  unpickle(f'{dir}/train')\n",
        "\n",
        "    # String converted dictionary\n",
        "    train_data = convert_byte_strings_to_strings(train_data_object)\n",
        "\n",
        "    # Load the test data set\n",
        "    test_data_object =  unpickle(f'{dir}/test')\n",
        "\n",
        "    # String converted dictionary\n",
        "    test_data = convert_byte_strings_to_strings(test_data_object)\n",
        "\n",
        "    # Label encoding object set\n",
        "    label_translation_object =  unpickle(f'{dir}/meta')\n",
        "\n",
        "    # String converted dictionary\n",
        "    label_translation = convert_byte_strings_to_strings(label_translation_object)\n",
        "\n",
        "    return train_data, test_data, label_translation"
      ],
      "metadata": {
        "id": "E7KMQ1Bwur7c"
      },
      "execution_count": 54,
      "outputs": []
    },
    {
      "cell_type": "code",
      "source": [
        "# Type of train\n",
        "train_obj, test_obj, label_obj = load_CIFR_data('./data/cifar-100-python')"
      ],
      "metadata": {
        "id": "RdyV_6Qnuylr"
      },
      "execution_count": 55,
      "outputs": []
    },
    {
      "cell_type": "markdown",
      "source": [
        "# 2. Data Exploration\n",
        "\n",
        "Each data dictionary has 5 keys:\n",
        "\n",
        "* filenames : That is the name of the picture file\n",
        "* batch_label : *Unknown*\n",
        "* fine_labels : 100 labels precisely identifying each image\n",
        "* coarse_labels : 20 labels approximately identifying image\n",
        "* data : The tensor of each 32x32x3 image as a 3072,1 shape tensor"
      ],
      "metadata": {
        "id": "i3zmaDuvvAjN"
      }
    },
    {
      "cell_type": "markdown",
      "source": [
        "## 2.1 Let's eavluate the coarse labels data format and augment it according to our needs"
      ],
      "metadata": {
        "id": "GletxoX2CBab"
      }
    },
    {
      "cell_type": "markdown",
      "source": [
        "### 2.1.1 Number of coarse labels"
      ],
      "metadata": {
        "id": "NzHz51jZ5WHp"
      }
    },
    {
      "cell_type": "code",
      "source": [
        "print(set(train_obj['coarse_labels']))"
      ],
      "metadata": {
        "colab": {
          "base_uri": "https://localhost:8080/"
        },
        "id": "wdSt7Cop6lpL",
        "outputId": "45aa9db2-3b23-4135-8d67-6665cde04255"
      },
      "execution_count": 57,
      "outputs": [
        {
          "output_type": "stream",
          "name": "stdout",
          "text": [
            "{0, 1, 2, 3, 4, 5, 6, 7, 8, 9, 10, 11, 12, 13, 14, 15, 16, 17, 18, 19}\n"
          ]
        }
      ]
    },
    {
      "cell_type": "code",
      "source": [
        "print(len(set(train_obj['coarse_labels'])))"
      ],
      "metadata": {
        "colab": {
          "base_uri": "https://localhost:8080/"
        },
        "id": "zNMLPD9t65-E",
        "outputId": "01e9879c-a4f8-4fb5-de97-e61e16ed31da"
      },
      "execution_count": 58,
      "outputs": [
        {
          "output_type": "stream",
          "name": "stdout",
          "text": [
            "20\n"
          ]
        }
      ]
    },
    {
      "cell_type": "markdown",
      "source": [
        "### 2.1.2 Number of Fine labels"
      ],
      "metadata": {
        "id": "iXOMcxtl7c3J"
      }
    },
    {
      "cell_type": "code",
      "source": [
        "print(set(train_obj['fine_labels']))"
      ],
      "metadata": {
        "colab": {
          "base_uri": "https://localhost:8080/"
        },
        "outputId": "5fcd1cb8-b23d-4991-bbcb-6417fbdd788c",
        "id": "2dCJCOsR720d"
      },
      "execution_count": 59,
      "outputs": [
        {
          "output_type": "stream",
          "name": "stdout",
          "text": [
            "{0, 1, 2, 3, 4, 5, 6, 7, 8, 9, 10, 11, 12, 13, 14, 15, 16, 17, 18, 19, 20, 21, 22, 23, 24, 25, 26, 27, 28, 29, 30, 31, 32, 33, 34, 35, 36, 37, 38, 39, 40, 41, 42, 43, 44, 45, 46, 47, 48, 49, 50, 51, 52, 53, 54, 55, 56, 57, 58, 59, 60, 61, 62, 63, 64, 65, 66, 67, 68, 69, 70, 71, 72, 73, 74, 75, 76, 77, 78, 79, 80, 81, 82, 83, 84, 85, 86, 87, 88, 89, 90, 91, 92, 93, 94, 95, 96, 97, 98, 99}\n"
          ]
        }
      ]
    },
    {
      "cell_type": "code",
      "source": [
        "print(len(set(train_obj['fine_labels'])))"
      ],
      "metadata": {
        "colab": {
          "base_uri": "https://localhost:8080/"
        },
        "outputId": "9b5f8018-f67d-476c-8bbb-603cde044215",
        "id": "nYNBfT0M720d"
      },
      "execution_count": 60,
      "outputs": [
        {
          "output_type": "stream",
          "name": "stdout",
          "text": [
            "100\n"
          ]
        }
      ]
    },
    {
      "cell_type": "markdown",
      "source": [
        "### 2.1.3 Creating a hash map to lookup the lable to the class name"
      ],
      "metadata": {
        "id": "osgdLHV577Ho"
      }
    },
    {
      "cell_type": "code",
      "source": [
        "def label_to_class(label, label_translation, as_onehot=False, label_type: str = \"fine_label_names\"):\n",
        "    \"\"\"\n",
        "    Function: Convert a label to a class text\n",
        "    Args:\n",
        "        label (int | np.array): The label to convert\n",
        "        label_translation (dict): The label translation dictionary\n",
        "        as_onehot (bool): Whether the label is onehot or not\n",
        "    \"\"\"\n",
        "    # Validate label_type\n",
        "    if label_type not in [\"fine_label_names\", \"coarse_label_names\"]:\n",
        "        raise ValueError(\"label_type must be one of fine_label_names or coarse_label_names\")\n",
        "\n",
        "\n",
        "    # Get the label from onehot is passed as onehot\n",
        "    if as_onehot:\n",
        "        try:\n",
        "            label = int(np.argmax(label))\n",
        "        except Exception as e:\n",
        "            print(e)\n",
        "            print(label)\n",
        "            raise ValueError(\"Label must be onehot\") from e\n",
        "\n",
        "    # Get the label_string\n",
        "    try:\n",
        "        label_string = label_translation[label_type][label]\n",
        "\n",
        "    except Exception as e:\n",
        "        print(e)\n",
        "        print(label)\n",
        "        raise ValueError(\"Label must be an integer\") from e\n",
        "\n",
        "    return label_string.decode(\"utf-8\")"
      ],
      "metadata": {
        "id": "_DzfrCCZ4nXo"
      },
      "execution_count": 89,
      "outputs": []
    },
    {
      "cell_type": "markdown",
      "source": [
        "## 2.2 Check label distribution in the train set"
      ],
      "metadata": {
        "id": "2eAF2JHx8BvW"
      }
    },
    {
      "cell_type": "code",
      "source": [
        "hist = {}\n",
        "for val in train_obj['fine_labels']:\n",
        "    if val not in hist:\n",
        "        hist[val] = 1\n",
        "    else:\n",
        "        hist[val] += 1"
      ],
      "metadata": {
        "id": "OobjkaTN8uBM"
      },
      "execution_count": 93,
      "outputs": []
    },
    {
      "cell_type": "code",
      "source": [
        "plt.bar(x=list(hist.keys()), height=list(hist.values()))"
      ],
      "metadata": {
        "colab": {
          "base_uri": "https://localhost:8080/",
          "height": 447
        },
        "id": "ZeLrhJcsJ9n_",
        "outputId": "542f58ac-57d6-4f72-db56-88eff5cc3b6f"
      },
      "execution_count": 97,
      "outputs": [
        {
          "output_type": "execute_result",
          "data": {
            "text/plain": [
              "<BarContainer object of 100 artists>"
            ]
          },
          "metadata": {},
          "execution_count": 97
        },
        {
          "output_type": "display_data",
          "data": {
            "text/plain": [
              "<Figure size 640x480 with 1 Axes>"
            ],
            "image/png": "[encoded data removed]"
          },
          "metadata": {}
        }
      ]
    },
    {
      "cell_type": "markdown",
      "source": [
        "## 2.3 Check label distribution in the test set"
      ],
      "metadata": {
        "id": "9AoXq0ilKQfc"
      }
    },
    {
      "cell_type": "code",
      "source": [
        "hist = {}\n",
        "for val in test_obj['fine_labels']:\n",
        "    if val not in hist:\n",
        "        hist[val] = 1\n",
        "    else:\n",
        "        hist[val] += 1"
      ],
      "metadata": {
        "id": "n3h74fyOKQfc"
      },
      "execution_count": 98,
      "outputs": []
    },
    {
      "cell_type": "code",
      "source": [
        "plt.bar(x=list(hist.keys()), height=list(hist.values()))"
      ],
      "metadata": {
        "outputId": "aab5c4f9-f58b-46bb-e321-db00b90eefc3",
        "colab": {
          "base_uri": "https://localhost:8080/",
          "height": 447
        },
        "id": "nUxGV5O_KQfd"
      },
      "execution_count": 99,
      "outputs": [
        {
          "output_type": "execute_result",
          "data": {
            "text/plain": [
              "<BarContainer object of 100 artists>"
            ]
          },
          "metadata": {},
          "execution_count": 99
        },
        {
          "output_type": "display_data",
          "data": {
            "text/plain": [
              "<Figure size 640x480 with 1 Axes>"
            ],
            "image/png": "[encoded data removed]"
          },
          "metadata": {}
        }
      ]
    },
    {
      "cell_type": "markdown",
      "source": [
        "## 2.4 Tansform the dataset from 10,000 x 3072 x 1 to 10,000 x 32 x 32 x 3"
      ],
      "metadata": {
        "id": "sRVpSZkAICwA"
      }
    },
    {
      "cell_type": "markdown",
      "source": [
        "### 2.4.1 Transforming the data"
      ],
      "metadata": {
        "id": "X2NB1elpMhFw"
      }
    },
    {
      "cell_type": "code",
      "source": [
        "def transform_tensor(input_tensor, channels=3):\n",
        "    \"\"\"\n",
        "    Function: Transform the tensor from 10,000 x 3072 x 1 to 10,000 x 32 x 32 x 3\n",
        "    Args:\n",
        "        input_tensor (np.array): The input tensor\n",
        "    Returns:\n",
        "        output_tensor (np.array): The output tensor\n",
        "    \"\"\"\n",
        "    # Get sample dimesion metadata\n",
        "    samples = input_tensor.shape[0]\n",
        "    flattened_dim = input_tensor.shape[1]/channels\n",
        "\n",
        "    # Reshape tensor\n",
        "    output_tensor = tf.reshape(input_tensor, (samples, channels, math.ceil(flattened_dim**0.5), math.ceil(flattened_dim**0.5)))\n",
        "    output_tensor = tf.transpose(output_tensor, perm=[0, 2, 3, 1])\n",
        "\n",
        "    # Return the output tensor\n",
        "    return output_tensor"
      ],
      "metadata": {
        "id": "8FrVZxaFL2bJ"
      },
      "execution_count": 141,
      "outputs": []
    },
    {
      "cell_type": "code",
      "source": [
        "train_dataset_X = transform_tensor(train_obj['data'])\n",
        "test_dataset_X = transform_tensor(test_obj['data'])"
      ],
      "metadata": {
        "id": "jCZI2MS4L3BU"
      },
      "execution_count": 142,
      "outputs": []
    },
    {
      "cell_type": "markdown",
      "source": [
        "### 2.4.2 Validating the shape"
      ],
      "metadata": {
        "id": "nsee1dUOMgEL"
      }
    },
    {
      "cell_type": "code",
      "source": [
        "train_dataset_X.shape"
      ],
      "metadata": {
        "colab": {
          "base_uri": "https://localhost:8080/"
        },
        "id": "CNdoybqoL7m_",
        "outputId": "dace0687-4ecb-4528-86bc-851f5dffdcfb"
      },
      "execution_count": 143,
      "outputs": [
        {
          "output_type": "execute_result",
          "data": {
            "text/plain": [
              "TensorShape([50000, 32, 32, 3])"
            ]
          },
          "metadata": {},
          "execution_count": 143
        }
      ]
    },
    {
      "cell_type": "code",
      "source": [
        "test_dataset_X.shape"
      ],
      "metadata": {
        "colab": {
          "base_uri": "https://localhost:8080/"
        },
        "id": "Lf2WpVT1Mpxi",
        "outputId": "3ae5cb56-f690-473b-facc-2a25ddbfd491"
      },
      "execution_count": 144,
      "outputs": [
        {
          "output_type": "execute_result",
          "data": {
            "text/plain": [
              "TensorShape([10000, 32, 32, 3])"
            ]
          },
          "metadata": {},
          "execution_count": 144
        }
      ]
    },
    {
      "cell_type": "markdown",
      "source": [
        "## 2.5 Displaying an image using PIL"
      ],
      "metadata": {
        "id": "DY4oSYYdMrHa"
      }
    },
    {
      "cell_type": "markdown",
      "source": [
        "### 2.5.1 From train split"
      ],
      "metadata": {
        "id": "vyb_RildOgis"
      }
    },
    {
      "cell_type": "code",
      "source": [
        "plt.imshow(train_dataset_X[100])"
      ],
      "metadata": {
        "colab": {
          "base_uri": "https://localhost:8080/",
          "height": 447
        },
        "id": "Bfdg96_KM5c7",
        "outputId": "5f379fb3-b9e9-4f57-d314-e465bc7ef35c"
      },
      "execution_count": 145,
      "outputs": [
        {
          "output_type": "execute_result",
          "data": {
            "text/plain": [
              "<matplotlib.image.AxesImage at 0x7aa11edfaef0>"
            ]
          },
          "metadata": {},
          "execution_count": 145
        },
        {
          "output_type": "display_data",
          "data": {
            "text/plain": [
              "<Figure size 640x480 with 1 Axes>"
            ],
            "image/png": "[encoded data removed]"
          },
          "metadata": {}
        }
      ]
    },
    {
      "cell_type": "markdown",
      "source": [
        "### 2.5.2 From test split"
      ],
      "metadata": {
        "id": "Xz1AxprONU0w"
      }
    },
    {
      "cell_type": "code",
      "source": [
        "plt.imshow(test_dataset_X[5000])"
      ],
      "metadata": {
        "colab": {
          "base_uri": "https://localhost:8080/",
          "height": 447
        },
        "id": "-8tWfQOHOoIn",
        "outputId": "7dfd8cb9-71fd-4e26-9c08-db69aad604e0"
      },
      "execution_count": 147,
      "outputs": [
        {
          "output_type": "execute_result",
          "data": {
            "text/plain": [
              "<matplotlib.image.AxesImage at 0x7aa11eb13e80>"
            ]
          },
          "metadata": {},
          "execution_count": 147
        },
        {
          "output_type": "display_data",
          "data": {
            "text/plain": [
              "<Figure size 640x480 with 1 Axes>"
            ],
            "image/png": "[encoded data removed]"
          },
          "metadata": {}
        }
      ]
    },
    {
      "cell_type": "markdown",
      "source": [
        "## 2.6 Encoding the labels into a onehot encode format"
      ],
      "metadata": {
        "id": "EIo0X8whQceU"
      }
    },
    {
      "cell_type": "markdown",
      "source": [
        "### 2.6.1 Encode the int labels as onehots"
      ],
      "metadata": {
        "id": "407Mj0E2S8TT"
      }
    },
    {
      "cell_type": "code",
      "source": [
        "def label_to_onehot(label, label_translation, label_type: str = \"fine_label_names\"):\n",
        "    \"\"\"\n",
        "    Function: Convert a label to a onehot encode\n",
        "    Args:\n",
        "        label (int | np.array): The label to convert\n",
        "        label_translation (dict): The label translation dictionary\n",
        "    \"\"\"\n",
        "\n",
        "    # Validate label_type\n",
        "    if label_type not in [\"fine_label_names\", \"coarse_label_names\"]:\n",
        "        raise ValueError(\"label_type must be one of fine_label_names or coarse_label_names\")\n",
        "\n",
        "    # Convert singular label to a list\n",
        "    if type(label) not in (list, set, tf.Tensor, np.array):\n",
        "        try:\n",
        "            labels = np.array([int(label)])\n",
        "        except Exception as e:\n",
        "            raise ValueError(\"Label must be an number or numeric list\") from e\n",
        "\n",
        "    else:\n",
        "        labels = label\n",
        "\n",
        "    # Initialise an empty array for return\n",
        "    result = []\n",
        "\n",
        "    # For each element return the onehot\n",
        "    for label in labels:\n",
        "        onehot = np.zeros(len(label_translation[label_type]))\n",
        "        onehot[label] = 1\n",
        "        result.append(onehot)\n",
        "\n",
        "    # Return the result\n",
        "    return tf.constant(result)"
      ],
      "metadata": {
        "id": "o8RpG5-WQh0r"
      },
      "execution_count": 151,
      "outputs": []
    },
    {
      "cell_type": "code",
      "source": [
        "train_dataset_Y = label_to_onehot(train_obj['fine_labels'], label_obj)\n",
        "test_dataset_Y = label_to_onehot(test_obj['fine_labels'], label_obj)"
      ],
      "metadata": {
        "id": "fPzYnpq5SNYS"
      },
      "execution_count": 152,
      "outputs": []
    },
    {
      "cell_type": "markdown",
      "source": [
        "### 2.6.2 Validate size of output"
      ],
      "metadata": {
        "id": "9Whxxcv1S3b8"
      }
    },
    {
      "cell_type": "code",
      "source": [
        "train_dataset_Y.shape"
      ],
      "metadata": {
        "colab": {
          "base_uri": "https://localhost:8080/"
        },
        "id": "vED8vWkwTBFe",
        "outputId": "3ff6bcd9-bf25-4929-c3e7-e07062ca9036"
      },
      "execution_count": 153,
      "outputs": [
        {
          "output_type": "execute_result",
          "data": {
            "text/plain": [
              "TensorShape([50000, 100])"
            ]
          },
          "metadata": {},
          "execution_count": 153
        }
      ]
    },
    {
      "cell_type": "code",
      "source": [
        "test_dataset_Y.shape"
      ],
      "metadata": {
        "colab": {
          "base_uri": "https://localhost:8080/"
        },
        "id": "NU2wV9IgTGBa",
        "outputId": "30876f7b-c083-4674-8497-82d80809c4ec"
      },
      "execution_count": 154,
      "outputs": [
        {
          "output_type": "execute_result",
          "data": {
            "text/plain": [
              "TensorShape([10000, 100])"
            ]
          },
          "metadata": {},
          "execution_count": 154
        }
      ]
    },
    {
      "cell_type": "markdown",
      "source": [
        "# 3. Modelling"
      ],
      "metadata": {
        "id": "8e724UXCOsuY"
      }
    },
    {
      "cell_type": "code",
      "source": [],
      "metadata": {
        "colab": {
          "base_uri": "https://localhost:8080/",
          "height": 391
        },
        "id": "K6yoc-4jOwym",
        "outputId": "e1cc0d37-2146-4b94-863e-ec278683de49"
      },
      "execution_count": 157,
      "outputs": [
        {
          "output_type": "error",
          "ename": "ValueError",
          "evalue": "Computed output size would be negative. Received `inputs shape=(None, 0, 0, 4)`, `kernel shape=(32, 32, 4, 4)`, `dilation_rate=[1 1]`.",
          "traceback": [
            "\u001b[0;31m---------------------------------------------------------------------------\u001b[0m",
            "\u001b[0;31mValueError\u001b[0m                                Traceback (most recent call last)",
            "\u001b[0;32m<ipython-input-157-baf010448a63>\u001b[0m in \u001b[0;36m<cell line: 1>\u001b[0;34m()\u001b[0m\n\u001b[0;32m----> 1\u001b[0;31m model = tf.keras.Sequential([\n\u001b[0m\u001b[1;32m      2\u001b[0m     \u001b[0mtf\u001b[0m\u001b[0;34m.\u001b[0m\u001b[0mkeras\u001b[0m\u001b[0;34m.\u001b[0m\u001b[0mlayers\u001b[0m\u001b[0;34m.\u001b[0m\u001b[0mConv2D\u001b[0m\u001b[0;34m(\u001b[0m\u001b[0mkernel_size\u001b[0m\u001b[0;34m=\u001b[0m\u001b[0;36m32\u001b[0m\u001b[0;34m,\u001b[0m \u001b[0mfilters\u001b[0m\u001b[0;34m=\u001b[0m\u001b[0;36m4\u001b[0m\u001b[0;34m,\u001b[0m \u001b[0mstrides\u001b[0m\u001b[0;34m=\u001b[0m\u001b[0;36m1\u001b[0m\u001b[0;34m,\u001b[0m \u001b[0mpadding\u001b[0m\u001b[0;34m=\u001b[0m\u001b[0;34m\"valid\"\u001b[0m\u001b[0;34m,\u001b[0m \u001b[0minput_shape\u001b[0m\u001b[0;34m=\u001b[0m\u001b[0;34m(\u001b[0m\u001b[0;36m32\u001b[0m\u001b[0;34m,\u001b[0m\u001b[0;36m32\u001b[0m\u001b[0;34m,\u001b[0m\u001b[0;36m3\u001b[0m\u001b[0;34m)\u001b[0m\u001b[0;34m)\u001b[0m\u001b[0;34m,\u001b[0m\u001b[0;34m\u001b[0m\u001b[0;34m\u001b[0m\u001b[0m\n\u001b[1;32m      3\u001b[0m     \u001b[0mtf\u001b[0m\u001b[0;34m.\u001b[0m\u001b[0mkeras\u001b[0m\u001b[0;34m.\u001b[0m\u001b[0mlayers\u001b[0m\u001b[0;34m.\u001b[0m\u001b[0mLeakyReLU\u001b[0m\u001b[0;34m(\u001b[0m\u001b[0mnegative_slope\u001b[0m\u001b[0;34m=\u001b[0m\u001b[0;36m0.2\u001b[0m\u001b[0;34m)\u001b[0m\u001b[0;34m,\u001b[0m\u001b[0;34m\u001b[0m\u001b[0;34m\u001b[0m\u001b[0m\n\u001b[1;32m      4\u001b[0m     \u001b[0mtf\u001b[0m\u001b[0;34m.\u001b[0m\u001b[0mkeras\u001b[0m\u001b[0;34m.\u001b[0m\u001b[0mlayers\u001b[0m\u001b[0;34m.\u001b[0m\u001b[0mMaxPool2D\u001b[0m\u001b[0;34m(\u001b[0m\u001b[0mpool_size\u001b[0m\u001b[0;34m=\u001b[0m\u001b[0;34m(\u001b[0m\u001b[0;36m2\u001b[0m\u001b[0;34m,\u001b[0m\u001b[0;36m2\u001b[0m\u001b[0;34m)\u001b[0m\u001b[0;34m,\u001b[0m \u001b[0mstrides\u001b[0m\u001b[0;34m=\u001b[0m\u001b[0;34m(\u001b[0m\u001b[0;36m2\u001b[0m\u001b[0;34m,\u001b[0m\u001b[0;36m2\u001b[0m\u001b[0;34m)\u001b[0m\u001b[0;34m)\u001b[0m\u001b[0;34m,\u001b[0m\u001b[0;34m\u001b[0m\u001b[0;34m\u001b[0m\u001b[0m\n\u001b[1;32m      5\u001b[0m     \u001b[0mtf\u001b[0m\u001b[0;34m.\u001b[0m\u001b[0mkeras\u001b[0m\u001b[0;34m.\u001b[0m\u001b[0mlayers\u001b[0m\u001b[0;34m.\u001b[0m\u001b[0mDropout\u001b[0m\u001b[0;34m(\u001b[0m\u001b[0;36m0.2\u001b[0m\u001b[0;34m)\u001b[0m\u001b[0;34m,\u001b[0m\u001b[0;34m\u001b[0m\u001b[0;34m\u001b[0m\u001b[0m\n",
            "\u001b[0;32m/usr/local/lib/python3.10/dist-packages/keras/src/models/sequential.py\u001b[0m in \u001b[0;36m__init__\u001b[0;34m(self, layers, trainable, name)\u001b[0m\n\u001b[1;32m     72\u001b[0m             \u001b[0;32mfor\u001b[0m \u001b[0mlayer\u001b[0m \u001b[0;32min\u001b[0m \u001b[0mlayers\u001b[0m\u001b[0;34m:\u001b[0m\u001b[0;34m\u001b[0m\u001b[0;34m\u001b[0m\u001b[0m\n\u001b[1;32m     73\u001b[0m                 \u001b[0mself\u001b[0m\u001b[0;34m.\u001b[0m\u001b[0madd\u001b[0m\u001b[0;34m(\u001b[0m\u001b[0mlayer\u001b[0m\u001b[0;34m,\u001b[0m \u001b[0mrebuild\u001b[0m\u001b[0;34m=\u001b[0m\u001b[0;32mFalse\u001b[0m\u001b[0;34m)\u001b[0m\u001b[0;34m\u001b[0m\u001b[0;34m\u001b[0m\u001b[0m\n\u001b[0;32m---> 74\u001b[0;31m             \u001b[0mself\u001b[0m\u001b[0;34m.\u001b[0m\u001b[0m_maybe_rebuild\u001b[0m\u001b[0;34m(\u001b[0m\u001b[0;34m)\u001b[0m\u001b[0;34m\u001b[0m\u001b[0;34m\u001b[0m\u001b[0m\n\u001b[0m\u001b[1;32m     75\u001b[0m \u001b[0;34m\u001b[0m\u001b[0m\n\u001b[1;32m     76\u001b[0m     \u001b[0;32mdef\u001b[0m \u001b[0madd\u001b[0m\u001b[0;34m(\u001b[0m\u001b[0mself\u001b[0m\u001b[0;34m,\u001b[0m \u001b[0mlayer\u001b[0m\u001b[0;34m,\u001b[0m \u001b[0mrebuild\u001b[0m\u001b[0;34m=\u001b[0m\u001b[0;32mTrue\u001b[0m\u001b[0;34m)\u001b[0m\u001b[0;34m:\u001b[0m\u001b[0;34m\u001b[0m\u001b[0;34m\u001b[0m\u001b[0m\n",
            "\u001b[0;32m/usr/local/lib/python3.10/dist-packages/keras/src/models/sequential.py\u001b[0m in \u001b[0;36m_maybe_rebuild\u001b[0;34m(self)\u001b[0m\n\u001b[1;32m    137\u001b[0m         \u001b[0;32mif\u001b[0m \u001b[0misinstance\u001b[0m\u001b[0;34m(\u001b[0m\u001b[0mself\u001b[0m\u001b[0;34m.\u001b[0m\u001b[0m_layers\u001b[0m\u001b[0;34m[\u001b[0m\u001b[0;36m0\u001b[0m\u001b[0;34m]\u001b[0m\u001b[0;34m,\u001b[0m \u001b[0mInputLayer\u001b[0m\u001b[0;34m)\u001b[0m \u001b[0;32mand\u001b[0m \u001b[0mlen\u001b[0m\u001b[0;34m(\u001b[0m\u001b[0mself\u001b[0m\u001b[0;34m.\u001b[0m\u001b[0m_layers\u001b[0m\u001b[0;34m)\u001b[0m \u001b[0;34m>\u001b[0m \u001b[0;36m1\u001b[0m\u001b[0;34m:\u001b[0m\u001b[0;34m\u001b[0m\u001b[0;34m\u001b[0m\u001b[0m\n\u001b[1;32m    138\u001b[0m             \u001b[0minput_shape\u001b[0m \u001b[0;34m=\u001b[0m \u001b[0mself\u001b[0m\u001b[0;34m.\u001b[0m\u001b[0m_layers\u001b[0m\u001b[0;34m[\u001b[0m\u001b[0;36m0\u001b[0m\u001b[0;34m]\u001b[0m\u001b[0;34m.\u001b[0m\u001b[0mbatch_shape\u001b[0m\u001b[0;34m\u001b[0m\u001b[0;34m\u001b[0m\u001b[0m\n\u001b[0;32m--> 139\u001b[0;31m             \u001b[0mself\u001b[0m\u001b[0;34m.\u001b[0m\u001b[0mbuild\u001b[0m\u001b[0;34m(\u001b[0m\u001b[0minput_shape\u001b[0m\u001b[0;34m)\u001b[0m\u001b[0;34m\u001b[0m\u001b[0;34m\u001b[0m\u001b[0m\n\u001b[0m\u001b[1;32m    140\u001b[0m \u001b[0;34m\u001b[0m\u001b[0m\n\u001b[1;32m    141\u001b[0m     \u001b[0;32mdef\u001b[0m \u001b[0m_lock_state\u001b[0m\u001b[0;34m(\u001b[0m\u001b[0mself\u001b[0m\u001b[0;34m)\u001b[0m\u001b[0;34m:\u001b[0m\u001b[0;34m\u001b[0m\u001b[0;34m\u001b[0m\u001b[0m\n",
            "\u001b[0;32m/usr/local/lib/python3.10/dist-packages/keras/src/layers/layer.py\u001b[0m in \u001b[0;36mbuild_wrapper\u001b[0;34m(*args, **kwargs)\u001b[0m\n\u001b[1;32m    223\u001b[0m             \u001b[0;32mwith\u001b[0m \u001b[0mobj\u001b[0m\u001b[0;34m.\u001b[0m\u001b[0m_open_name_scope\u001b[0m\u001b[0;34m(\u001b[0m\u001b[0;34m)\u001b[0m\u001b[0;34m:\u001b[0m\u001b[0;34m\u001b[0m\u001b[0;34m\u001b[0m\u001b[0m\n\u001b[1;32m    224\u001b[0m                 \u001b[0mobj\u001b[0m\u001b[0;34m.\u001b[0m\u001b[0m_path\u001b[0m \u001b[0;34m=\u001b[0m \u001b[0mcurrent_path\u001b[0m\u001b[0;34m(\u001b[0m\u001b[0;34m)\u001b[0m\u001b[0;34m\u001b[0m\u001b[0;34m\u001b[0m\u001b[0m\n\u001b[0;32m--> 225\u001b[0;31m                 \u001b[0moriginal_build_method\u001b[0m\u001b[0;34m(\u001b[0m\u001b[0;34m*\u001b[0m\u001b[0margs\u001b[0m\u001b[0;34m,\u001b[0m \u001b[0;34m**\u001b[0m\u001b[0mkwargs\u001b[0m\u001b[0;34m)\u001b[0m\u001b[0;34m\u001b[0m\u001b[0;34m\u001b[0m\u001b[0m\n\u001b[0m\u001b[1;32m    226\u001b[0m             \u001b[0;31m# Record build config.\u001b[0m\u001b[0;34m\u001b[0m\u001b[0;34m\u001b[0m\u001b[0m\n\u001b[1;32m    227\u001b[0m             \u001b[0msignature\u001b[0m \u001b[0;34m=\u001b[0m \u001b[0minspect\u001b[0m\u001b[0;34m.\u001b[0m\u001b[0msignature\u001b[0m\u001b[0;34m(\u001b[0m\u001b[0moriginal_build_method\u001b[0m\u001b[0;34m)\u001b[0m\u001b[0;34m\u001b[0m\u001b[0;34m\u001b[0m\u001b[0m\n",
            "\u001b[0;32m/usr/local/lib/python3.10/dist-packages/keras/src/models/sequential.py\u001b[0m in \u001b[0;36mbuild\u001b[0;34m(self, input_shape)\u001b[0m\n\u001b[1;32m    181\u001b[0m         \u001b[0;32mfor\u001b[0m \u001b[0mlayer\u001b[0m \u001b[0;32min\u001b[0m \u001b[0mself\u001b[0m\u001b[0;34m.\u001b[0m\u001b[0m_layers\u001b[0m\u001b[0;34m[\u001b[0m\u001b[0;36m1\u001b[0m\u001b[0;34m:\u001b[0m\u001b[0;34m]\u001b[0m\u001b[0;34m:\u001b[0m\u001b[0;34m\u001b[0m\u001b[0;34m\u001b[0m\u001b[0m\n\u001b[1;32m    182\u001b[0m             \u001b[0;32mtry\u001b[0m\u001b[0;34m:\u001b[0m\u001b[0;34m\u001b[0m\u001b[0;34m\u001b[0m\u001b[0m\n\u001b[0;32m--> 183\u001b[0;31m                 \u001b[0mx\u001b[0m \u001b[0;34m=\u001b[0m \u001b[0mlayer\u001b[0m\u001b[0;34m(\u001b[0m\u001b[0mx\u001b[0m\u001b[0;34m)\u001b[0m\u001b[0;34m\u001b[0m\u001b[0;34m\u001b[0m\u001b[0m\n\u001b[0m\u001b[1;32m    184\u001b[0m             \u001b[0;32mexcept\u001b[0m \u001b[0mNotImplementedError\u001b[0m\u001b[0;34m:\u001b[0m\u001b[0;34m\u001b[0m\u001b[0;34m\u001b[0m\u001b[0m\n\u001b[1;32m    185\u001b[0m                 \u001b[0;31m# Can happen if shape inference is not implemented.\u001b[0m\u001b[0;34m\u001b[0m\u001b[0;34m\u001b[0m\u001b[0m\n",
            "\u001b[0;32m/usr/local/lib/python3.10/dist-packages/keras/src/utils/traceback_utils.py\u001b[0m in \u001b[0;36merror_handler\u001b[0;34m(*args, **kwargs)\u001b[0m\n\u001b[1;32m    120\u001b[0m             \u001b[0;31m# To get the full stack trace, call:\u001b[0m\u001b[0;34m\u001b[0m\u001b[0;34m\u001b[0m\u001b[0m\n\u001b[1;32m    121\u001b[0m             \u001b[0;31m# `keras.config.disable_traceback_filtering()`\u001b[0m\u001b[0;34m\u001b[0m\u001b[0;34m\u001b[0m\u001b[0m\n\u001b[0;32m--> 122\u001b[0;31m             \u001b[0;32mraise\u001b[0m \u001b[0me\u001b[0m\u001b[0;34m.\u001b[0m\u001b[0mwith_traceback\u001b[0m\u001b[0;34m(\u001b[0m\u001b[0mfiltered_tb\u001b[0m\u001b[0;34m)\u001b[0m \u001b[0;32mfrom\u001b[0m \u001b[0;32mNone\u001b[0m\u001b[0;34m\u001b[0m\u001b[0;34m\u001b[0m\u001b[0m\n\u001b[0m\u001b[1;32m    123\u001b[0m         \u001b[0;32mfinally\u001b[0m\u001b[0;34m:\u001b[0m\u001b[0;34m\u001b[0m\u001b[0;34m\u001b[0m\u001b[0m\n\u001b[1;32m    124\u001b[0m             \u001b[0;32mdel\u001b[0m \u001b[0mfiltered_tb\u001b[0m\u001b[0;34m\u001b[0m\u001b[0;34m\u001b[0m\u001b[0m\n",
            "\u001b[0;32m/usr/local/lib/python3.10/dist-packages/keras/src/ops/operation_utils.py\u001b[0m in \u001b[0;36mcompute_conv_output_shape\u001b[0;34m(input_shape, filters, kernel_size, strides, padding, data_format, dilation_rate)\u001b[0m\n\u001b[1;32m    219\u001b[0m         \u001b[0;32mfor\u001b[0m \u001b[0mi\u001b[0m \u001b[0;32min\u001b[0m \u001b[0mrange\u001b[0m\u001b[0;34m(\u001b[0m\u001b[0mlen\u001b[0m\u001b[0;34m(\u001b[0m\u001b[0moutput_spatial_shape\u001b[0m\u001b[0;34m)\u001b[0m\u001b[0;34m)\u001b[0m\u001b[0;34m:\u001b[0m\u001b[0;34m\u001b[0m\u001b[0;34m\u001b[0m\u001b[0m\n\u001b[1;32m    220\u001b[0m             \u001b[0;32mif\u001b[0m \u001b[0mi\u001b[0m \u001b[0;32mnot\u001b[0m \u001b[0;32min\u001b[0m \u001b[0mnone_dims\u001b[0m \u001b[0;32mand\u001b[0m \u001b[0moutput_spatial_shape\u001b[0m\u001b[0;34m[\u001b[0m\u001b[0mi\u001b[0m\u001b[0;34m]\u001b[0m \u001b[0;34m<\u001b[0m \u001b[0;36m0\u001b[0m\u001b[0;34m:\u001b[0m\u001b[0;34m\u001b[0m\u001b[0;34m\u001b[0m\u001b[0m\n\u001b[0;32m--> 221\u001b[0;31m                 raise ValueError(\n\u001b[0m\u001b[1;32m    222\u001b[0m                     \u001b[0;34m\"Computed output size would be negative. Received \"\u001b[0m\u001b[0;34m\u001b[0m\u001b[0;34m\u001b[0m\u001b[0m\n\u001b[1;32m    223\u001b[0m                     \u001b[0;34mf\"`inputs shape={input_shape}`, \"\u001b[0m\u001b[0;34m\u001b[0m\u001b[0;34m\u001b[0m\u001b[0m\n",
            "\u001b[0;31mValueError\u001b[0m: Computed output size would be negative. Received `inputs shape=(None, 0, 0, 4)`, `kernel shape=(32, 32, 4, 4)`, `dilation_rate=[1 1]`."
          ]
        }
      ]
    },
    {
      "cell_type": "code",
      "source": [],
      "metadata": {
        "id": "N4mnfGASTNmH"
      },
      "execution_count": null,
      "outputs": []
    }
  ]
}